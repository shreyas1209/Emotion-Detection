{
  "nbformat": 4,
  "nbformat_minor": 0,
  "metadata": {
    "accelerator": "GPU",
    "colab": {
      "name": "Emotion_main.ipynb",
      "provenance": [],
      "collapsed_sections": [],
      "include_colab_link": true
    },
    "kernelspec": {
      "display_name": "Python 3",
      "name": "python3"
    },
    "language_info": {
      "name": "python"
    }
  },
  "cells": [
    {
      "cell_type": "markdown",
      "metadata": {
        "id": "view-in-github",
        "colab_type": "text"
      },
      "source": [
        "<a href=\"https://colab.research.google.com/github/shreyas1209/Emotion-Detection/blob/main/Emotion_main.ipynb\" target=\"_parent\"><img src=\"https://colab.research.google.com/assets/colab-badge.svg\" alt=\"Open In Colab\"/></a>"
      ]
    },
    {
      "cell_type": "markdown",
      "metadata": {
        "id": "d-SGh2x6ipIH"
      },
      "source": [
        ""
      ]
    },
    {
      "cell_type": "code",
      "metadata": {
        "id": "ItoLYqkPVqXv"
      },
      "source": [
        "#testing data preprocessing\n",
        "import torch\n",
        "import torch.nn as nn\n",
        "import numpy as np\n",
        "import pandas as pd\n",
        "import PIL\n",
        "import os\n",
        "import matplotlib.pyplot as plt\n",
        "import matplotlib.image as img\n",
        "from torchvision import datasets\n",
        "from torchvision import transforms\n",
        "from PIL import Image, ImageDraw\n",
        "from torch.utils.data import Dataset, DataLoader, TensorDataset\n",
        "from numpy import genfromtxt\n",
        "import torchvision.utils as vutils\n",
        "import cv2"
      ],
      "execution_count": 1,
      "outputs": []
    },
    {
      "cell_type": "code",
      "metadata": {
        "colab": {
          "base_uri": "https://localhost:8080/"
        },
        "id": "O6b3zL4iTOd5",
        "outputId": "b3903cc0-a959-47f8-e928-5d726b4b4674"
      },
      "source": [
        "\n",
        "#mounting google drive\n",
        "from google.colab import drive\n",
        "drive.mount('/content/gdrive')"
      ],
      "execution_count": 2,
      "outputs": [
        {
          "output_type": "stream",
          "text": [
            "Drive already mounted at /content/gdrive; to attempt to forcibly remount, call drive.mount(\"/content/gdrive\", force_remount=True).\n"
          ],
          "name": "stdout"
        }
      ]
    },
    {
      "cell_type": "code",
      "metadata": {
        "id": "feJwv0BiZJwQ"
      },
      "source": [
        "device = torch.device(\"cuda\" if torch.cuda.is_available() else \"cpu\") "
      ],
      "execution_count": 3,
      "outputs": []
    },
    {
      "cell_type": "markdown",
      "metadata": {
        "id": "WHoC-om4NHOF"
      },
      "source": [
        "Using pandas to see how the train and validation data is stored in the csv file\n"
      ]
    },
    {
      "cell_type": "code",
      "metadata": {
        "colab": {
          "base_uri": "https://localhost:8080/",
          "height": 415
        },
        "id": "190WLfcj5dpw",
        "outputId": "abfb720c-c6e4-44aa-bfa3-b8031f94a889"
      },
      "source": [
        "df = pd.read_csv('/content/gdrive/MyDrive/Emotion Detector/emotion_detection/icml_face_data.csv')\n",
        "df\n"
      ],
      "execution_count": 4,
      "outputs": [
        {
          "output_type": "execute_result",
          "data": {
            "text/html": [
              "<div>\n",
              "<style scoped>\n",
              "    .dataframe tbody tr th:only-of-type {\n",
              "        vertical-align: middle;\n",
              "    }\n",
              "\n",
              "    .dataframe tbody tr th {\n",
              "        vertical-align: top;\n",
              "    }\n",
              "\n",
              "    .dataframe thead th {\n",
              "        text-align: right;\n",
              "    }\n",
              "</style>\n",
              "<table border=\"1\" class=\"dataframe\">\n",
              "  <thead>\n",
              "    <tr style=\"text-align: right;\">\n",
              "      <th></th>\n",
              "      <th>emotion</th>\n",
              "      <th>Usage</th>\n",
              "      <th>pixels</th>\n",
              "    </tr>\n",
              "  </thead>\n",
              "  <tbody>\n",
              "    <tr>\n",
              "      <th>0</th>\n",
              "      <td>0</td>\n",
              "      <td>Training</td>\n",
              "      <td>70 80 82 72 58 58 60 63 54 58 60 48 89 115 121...</td>\n",
              "    </tr>\n",
              "    <tr>\n",
              "      <th>1</th>\n",
              "      <td>0</td>\n",
              "      <td>Training</td>\n",
              "      <td>151 150 147 155 148 133 111 140 170 174 182 15...</td>\n",
              "    </tr>\n",
              "    <tr>\n",
              "      <th>2</th>\n",
              "      <td>2</td>\n",
              "      <td>Training</td>\n",
              "      <td>231 212 156 164 174 138 161 173 182 200 106 38...</td>\n",
              "    </tr>\n",
              "    <tr>\n",
              "      <th>3</th>\n",
              "      <td>4</td>\n",
              "      <td>Training</td>\n",
              "      <td>24 32 36 30 32 23 19 20 30 41 21 22 32 34 21 1...</td>\n",
              "    </tr>\n",
              "    <tr>\n",
              "      <th>4</th>\n",
              "      <td>6</td>\n",
              "      <td>Training</td>\n",
              "      <td>4 0 0 0 0 0 0 0 0 0 0 0 3 15 23 28 48 50 58 84...</td>\n",
              "    </tr>\n",
              "    <tr>\n",
              "      <th>...</th>\n",
              "      <td>...</td>\n",
              "      <td>...</td>\n",
              "      <td>...</td>\n",
              "    </tr>\n",
              "    <tr>\n",
              "      <th>35882</th>\n",
              "      <td>6</td>\n",
              "      <td>PrivateTest</td>\n",
              "      <td>50 36 17 22 23 29 33 39 34 37 37 37 39 43 48 5...</td>\n",
              "    </tr>\n",
              "    <tr>\n",
              "      <th>35883</th>\n",
              "      <td>3</td>\n",
              "      <td>PrivateTest</td>\n",
              "      <td>178 174 172 173 181 188 191 194 196 199 200 20...</td>\n",
              "    </tr>\n",
              "    <tr>\n",
              "      <th>35884</th>\n",
              "      <td>0</td>\n",
              "      <td>PrivateTest</td>\n",
              "      <td>17 17 16 23 28 22 19 17 25 26 20 24 31 19 27 9...</td>\n",
              "    </tr>\n",
              "    <tr>\n",
              "      <th>35885</th>\n",
              "      <td>3</td>\n",
              "      <td>PrivateTest</td>\n",
              "      <td>30 28 28 29 31 30 42 68 79 81 77 67 67 71 63 6...</td>\n",
              "    </tr>\n",
              "    <tr>\n",
              "      <th>35886</th>\n",
              "      <td>2</td>\n",
              "      <td>PrivateTest</td>\n",
              "      <td>19 13 14 12 13 16 21 33 50 57 71 84 97 108 122...</td>\n",
              "    </tr>\n",
              "  </tbody>\n",
              "</table>\n",
              "<p>35887 rows × 3 columns</p>\n",
              "</div>"
            ],
            "text/plain": [
              "       emotion        Usage                                             pixels\n",
              "0            0     Training  70 80 82 72 58 58 60 63 54 58 60 48 89 115 121...\n",
              "1            0     Training  151 150 147 155 148 133 111 140 170 174 182 15...\n",
              "2            2     Training  231 212 156 164 174 138 161 173 182 200 106 38...\n",
              "3            4     Training  24 32 36 30 32 23 19 20 30 41 21 22 32 34 21 1...\n",
              "4            6     Training  4 0 0 0 0 0 0 0 0 0 0 0 3 15 23 28 48 50 58 84...\n",
              "...        ...          ...                                                ...\n",
              "35882        6  PrivateTest  50 36 17 22 23 29 33 39 34 37 37 37 39 43 48 5...\n",
              "35883        3  PrivateTest  178 174 172 173 181 188 191 194 196 199 200 20...\n",
              "35884        0  PrivateTest  17 17 16 23 28 22 19 17 25 26 20 24 31 19 27 9...\n",
              "35885        3  PrivateTest  30 28 28 29 31 30 42 68 79 81 77 67 67 71 63 6...\n",
              "35886        2  PrivateTest  19 13 14 12 13 16 21 33 50 57 71 84 97 108 122...\n",
              "\n",
              "[35887 rows x 3 columns]"
            ]
          },
          "metadata": {
            "tags": []
          },
          "execution_count": 4
        }
      ]
    },
    {
      "cell_type": "code",
      "metadata": {
        "id": "1-FnjSYyEYKN"
      },
      "source": [
        "emotion_dict = {0 :'Angry' ,1 :'Disgusted' , 2 :'Fear' ,3 : 'Happy' ,4 :'Sad' ,5 :'Surprise' ,6 : 'Neutral' }"
      ],
      "execution_count": 5,
      "outputs": []
    },
    {
      "cell_type": "markdown",
      "metadata": {
        "id": "gKHKMToYHiqN"
      },
      "source": [
        "Exploratory Data Analysis"
      ]
    },
    {
      "cell_type": "code",
      "metadata": {
        "colab": {
          "base_uri": "https://localhost:8080/"
        },
        "id": "FtyLzGVPHh2M",
        "outputId": "2438c542-fbc1-4abf-8ba8-d5334948edc5"
      },
      "source": [
        "train_num_counts = np.zeros(7)\n",
        "val_num_counts = np.zeros(7)\n",
        "for i in range(7):\n",
        "  train_num_counts[i] = df['emotion'][(df['emotion']==i) &(df[' Usage'] == 'Training')].value_counts()\n",
        "  val_num_counts[i] = df['emotion'][(df['emotion']==i) &(df[' Usage'] == 'PrivateTest')].value_counts()\n",
        "print(train_num_counts,val_num_counts)"
      ],
      "execution_count": 6,
      "outputs": [
        {
          "output_type": "stream",
          "text": [
            "[3995.  436. 4097. 7215. 4830. 3171. 4965.] [491.  55. 528. 879. 594. 416. 626.]\n"
          ],
          "name": "stdout"
        }
      ]
    },
    {
      "cell_type": "markdown",
      "metadata": {
        "id": "ycwJ91CdI2Ty"
      },
      "source": [
        "Plotting the bar graph for training data"
      ]
    },
    {
      "cell_type": "code",
      "metadata": {
        "colab": {
          "base_uri": "https://localhost:8080/",
          "height": 302
        },
        "id": "boUpc9sDHiJr",
        "outputId": "7e90de7c-04fb-4e8d-96b8-9856df1d6270"
      },
      "source": [
        "\n",
        "plt.bar(emotion_dict.values(),train_num_counts,width = 0.5)\n",
        "plt.xlabel('Emotion',fontdict={'size': 16})\n",
        "plt.ylabel('No of instances',fontdict={'size': 16})\n",
        "plt.title(\"Training Data\",fontdict={'size': 16})\n",
        "plt.grid()\n",
        "plt.show()\n"
      ],
      "execution_count": 7,
      "outputs": [
        {
          "output_type": "display_data",
          "data": {
            "image/png": "[encoded data removed]",
            "text/plain": [
              "<Figure size 432x288 with 1 Axes>"
            ]
          },
          "metadata": {
            "tags": [],
            "needs_background": "light"
          }
        }
      ]
    },
    {
      "cell_type": "markdown",
      "metadata": {
        "id": "85HeZ7m5rQ40"
      },
      "source": [
        "The number of data items belonging to the class 'Disgusted' is quite low compared to the other classes"
      ]
    },
    {
      "cell_type": "markdown",
      "metadata": {
        "id": "Fv54zRmRJLcS"
      },
      "source": [
        "Plotting the graph for validation data"
      ]
    },
    {
      "cell_type": "code",
      "metadata": {
        "colab": {
          "base_uri": "https://localhost:8080/",
          "height": 302
        },
        "id": "mNgka2qDJE1n",
        "outputId": "5a13bf49-3826-482d-c097-34c505caeaec"
      },
      "source": [
        "plt.bar(emotion_dict.values(),val_num_counts,width = 0.5)\n",
        "plt.xlabel('Emotion',fontdict={'size': 16})\n",
        "plt.ylabel('No of instances',fontdict={'size': 16})\n",
        "plt.title(\"Validation Data\",fontdict={'size': 16})\n",
        "plt.grid()\n",
        "\n",
        "plt.show()"
      ],
      "execution_count": 8,
      "outputs": [
        {
          "output_type": "display_data",
          "data": {
            "image/png": "[encoded data removed]",
            "text/plain": [
              "<Figure size 432x288 with 1 Axes>"
            ]
          },
          "metadata": {
            "tags": [],
            "needs_background": "light"
          }
        }
      ]
    },
    {
      "cell_type": "markdown",
      "metadata": {
        "id": "X0xana8k28qE"
      },
      "source": [
        "function that converts string data to tensor"
      ]
    },
    {
      "cell_type": "code",
      "metadata": {
        "id": "F8PcOtJGV4d1"
      },
      "source": [
        "def totensor(dataval):\n",
        "  data = dataval.split()\n",
        "  data = [int(i) for i in data]\n",
        "  data = torch.tensor(data, dtype = torch.float)\n",
        "  return data\n",
        "\n",
        "\n",
        "\n",
        "\n",
        "    \n",
        "    \n"
      ],
      "execution_count": 9,
      "outputs": []
    },
    {
      "cell_type": "code",
      "metadata": {
        "id": "3aB8aoj_hV1T"
      },
      "source": [
        "def DATASET (df,normalize = 'False'):\n",
        "  data = df[' pixels']\n",
        "  data = [totensor(i) for i in data]\n",
        "  data = torch.stack([image for image in data])\n",
        "  data = (data.reshape(data.shape[0],1,48,48)/256)\n",
        "  if normalize == 'True':\n",
        "    datastack = torch.stack([data[i] for i in range(len(data))],dim= 2)\n",
        "    mean = datastack.view(1,-1).mean(dim = 1)\n",
        "    std = datastack.view(1,-1).std(dim = 1)\n",
        "    print(mean, std)\n",
        "    data = ((data-mean)/std)\n",
        "    \n",
        "\n",
        "  labels = torch.tensor(df['emotion'].to_numpy())\n",
        "  dataset = TensorDataset(data, labels)\n",
        "  return dataset\n",
        "\n",
        "\n",
        "\n",
        "\n",
        "\n",
        "\n",
        "\n",
        "\n"
      ],
      "execution_count": 10,
      "outputs": []
    },
    {
      "cell_type": "code",
      "metadata": {
        "id": "J5M8w9nA7lJM",
        "colab": {
          "base_uri": "https://localhost:8080/"
        },
        "outputId": "56be0a56-3020-4ba7-a729-4dce1f7a10fd"
      },
      "source": [
        "train_dataset = DATASET(df[df[' Usage']=='Training'],normalize = 'True')\n",
        "val_dataset = DATASET(df[df[' Usage']=='PrivateTest'])\n",
        "test_dataset = DATASET(df[df[' Usage']=='PublicTest'])"
      ],
      "execution_count": 11,
      "outputs": [
        {
          "output_type": "stream",
          "text": [
            "tensor([0.5058]) tensor([0.2540])\n"
          ],
          "name": "stdout"
        }
      ]
    },
    {
      "cell_type": "code",
      "metadata": {
        "colab": {
          "base_uri": "https://localhost:8080/",
          "height": 406
        },
        "id": "oIYL7zN35q58",
        "outputId": "b5905f58-d57b-4a9e-de2f-5fd79a067f6f"
      },
      "source": [
        "print(train_dataset[0][0])\n",
        "plt.imshow(train_dataset[0][0].reshape(48,48))\n"
      ],
      "execution_count": 12,
      "outputs": [
        {
          "output_type": "stream",
          "text": [
            "tensor([[[-0.9146, -0.7608, -0.7301,  ..., -1.1914, -1.3298, -1.3606],\n",
            "         [-0.9915, -1.0530, -1.0991,  ..., -1.1299, -1.1914, -1.3144],\n",
            "         [-1.2222, -1.3298, -1.1607,  ..., -1.2375, -1.1299, -1.2683],\n",
            "         ...,\n",
            "         [-0.5917, -0.9915, -1.3452,  ..., -0.8838, -1.1299, -1.3298],\n",
            "         [-0.8070, -0.7301, -0.7762,  ..., -0.3764, -0.9146, -1.2837],\n",
            "         [-0.8070, -0.8838, -0.6993,  ..., -0.3610, -0.3149, -0.7301]]])\n"
          ],
          "name": "stdout"
        },
        {
          "output_type": "execute_result",
          "data": {
            "text/plain": [
              "<matplotlib.image.AxesImage at 0x7f5f2a9f0bd0>"
            ]
          },
          "metadata": {
            "tags": []
          },
          "execution_count": 12
        },
        {
          "output_type": "display_data",
          "data": {
            "image/png": "[encoded data removed]",
            "text/plain": [
              "<Figure size 432x288 with 1 Axes>"
            ]
          },
          "metadata": {
            "tags": [],
            "needs_background": "light"
          }
        }
      ]
    },
    {
      "cell_type": "code",
      "metadata": {
        "colab": {
          "base_uri": "https://localhost:8080/",
          "height": 285
        },
        "id": "Y_2gq-BaD_sa",
        "outputId": "2eda79a6-39d2-4ace-b593-c69a877fdf22"
      },
      "source": [
        "val_dataset[0][0]\n",
        "plt.imshow(val_dataset[0][0].reshape(48,48))"
      ],
      "execution_count": 13,
      "outputs": [
        {
          "output_type": "execute_result",
          "data": {
            "text/plain": [
              "<matplotlib.image.AxesImage at 0x7f5f2aef2f10>"
            ]
          },
          "metadata": {
            "tags": []
          },
          "execution_count": 13
        },
        {
          "output_type": "display_data",
          "data": {
            "image/png": "[encoded data removed]",
            "text/plain": [
              "<Figure size 432x288 with 1 Axes>"
            ]
          },
          "metadata": {
            "tags": [],
            "needs_background": "light"
          }
        }
      ]
    },
    {
      "cell_type": "code",
      "metadata": {
        "colab": {
          "base_uri": "https://localhost:8080/",
          "height": 406
        },
        "id": "B_vEAdJzD_d2",
        "outputId": "3580bd48-f5ec-4909-a5c3-fdb8990e0770"
      },
      "source": [
        "print(test_dataset[0][0])\n",
        "plt.imshow(test_dataset[0][0].reshape(48,48))"
      ],
      "execution_count": 14,
      "outputs": [
        {
          "output_type": "stream",
          "text": [
            "tensor([[[0.9922, 0.9922, 0.9922,  ..., 0.0625, 0.0000, 0.6289],\n",
            "         [0.9922, 0.9922, 0.9922,  ..., 0.0664, 0.0000, 0.4766],\n",
            "         [0.9922, 0.9922, 0.9922,  ..., 0.1016, 0.0000, 0.4453],\n",
            "         ...,\n",
            "         [0.2578, 0.3359, 0.3867,  ..., 0.9961, 0.9844, 0.9922],\n",
            "         [0.3281, 0.3594, 0.3594,  ..., 0.9219, 0.9961, 0.9961],\n",
            "         [0.3633, 0.3516, 0.3320,  ..., 0.1641, 0.5039, 0.7031]]])\n"
          ],
          "name": "stdout"
        },
        {
          "output_type": "execute_result",
          "data": {
            "text/plain": [
              "<matplotlib.image.AxesImage at 0x7f5f2aa0ae50>"
            ]
          },
          "metadata": {
            "tags": []
          },
          "execution_count": 14
        },
        {
          "output_type": "display_data",
          "data": {
            "image/png": "[encoded data removed]",
            "text/plain": [
              "<Figure size 432x288 with 1 Axes>"
            ]
          },
          "metadata": {
            "tags": [],
            "needs_background": "light"
          }
        }
      ]
    },
    {
      "cell_type": "code",
      "metadata": {
        "id": "xB3_D-J8Gx69"
      },
      "source": [
        "batch_size = 128"
      ],
      "execution_count": 15,
      "outputs": []
    },
    {
      "cell_type": "code",
      "metadata": {
        "id": "3uLlDU-126Uq"
      },
      "source": [
        "train_dataloader = DataLoader(train_dataset, batch_size = batch_size)\n",
        "val_dataloader = DataLoader(val_dataset, batch_size = batch_size)\n",
        "test_dataloader = DataLoader(test_dataset, batch_size = batch_size)\n"
      ],
      "execution_count": 16,
      "outputs": []
    },
    {
      "cell_type": "markdown",
      "metadata": {
        "id": "7VygcgA7Jefr"
      },
      "source": [
        "Importing the training and models module"
      ]
    },
    {
      "cell_type": "code",
      "metadata": {
        "id": "oyfmRdAivwk7"
      },
      "source": [
        "import sys\n",
        "\n",
        "sys.path.append('/content/gdrive/MyDrive/Emotion Detector') \n"
      ],
      "execution_count": 17,
      "outputs": []
    },
    {
      "cell_type": "code",
      "metadata": {
        "colab": {
          "base_uri": "https://localhost:8080/"
        },
        "id": "GDbeguJWJwdU",
        "outputId": "d946aafb-dd88-4183-ed1f-ebd78703850b"
      },
      "source": [
        "from Emotion_train import *\n",
        "from Emotion_models import *"
      ],
      "execution_count": 18,
      "outputs": [
        {
          "output_type": "stream",
          "text": [
            "Drive already mounted at /content/gdrive; to attempt to forcibly remount, call drive.mount(\"/content/gdrive\", force_remount=True).\n"
          ],
          "name": "stdout"
        }
      ]
    },
    {
      "cell_type": "code",
      "metadata": {
        "id": "u4D16BOz09Nu"
      },
      "source": [
        "model = emonet(7)\n",
        "learning_rate = 1e-3\n",
        "epochs = 50\n",
        "optimizer = optim.Adam(model.parameters(), lr = learning_rate)\n",
        "loss_func = nn.CrossEntropyLoss()\n",
        "\n",
        "\n",
        "\n",
        "\n",
        "    \n",
        "    \n",
        "\n",
        "    "
      ],
      "execution_count": 19,
      "outputs": []
    },
    {
      "cell_type": "markdown",
      "metadata": {
        "id": "DujiGtUSoax5"
      },
      "source": [
        "\n",
        "\n"
      ]
    },
    {
      "cell_type": "code",
      "metadata": {
        "id": "6Df2pObHUFi-"
      },
      "source": [
        "start = time.process_time()\n",
        "model,history = train(train_dataloader,val_dataloader,epochs,model,loss_func,optimizer)\n",
        "end = time.process_time()\n",
        "elapsed = end-start\n",
        "print(\"Total time :\", elapsed)"
      ],
      "execution_count": null,
      "outputs": []
    },
    {
      "cell_type": "markdown",
      "metadata": {
        "id": "36JXh8eXQzwe"
      },
      "source": [
        "Post training analysis"
      ]
    },
    {
      "cell_type": "code",
      "metadata": {
        "id": "P78t-6M4QoPg"
      },
      "source": [
        "epoch_no = [(i+1) for i in range(epochs)]\n",
        "\n",
        "plt.plot(epoch_no,history[\"train_accuracy\"], label = 'Train Accuracies')\n",
        "plt.plot(epoch_no,history[\"val_accuracy\"], label = 'Validation Accuracies')\n",
        "plt.xlabel(\"Epochs\")\n",
        "plt.ylabel(\"Accuracies\")\n",
        "plt.title('Accuracy')\n",
        "plt.legend()\n",
        "plt.show()\n",
        "\n",
        "\n",
        "\n"
      ],
      "execution_count": null,
      "outputs": []
    },
    {
      "cell_type": "markdown",
      "metadata": {
        "id": "uBimiN13NZuc"
      },
      "source": [
        ""
      ]
    },
    {
      "cell_type": "code",
      "metadata": {
        "id": "tZtypC1DVIcD"
      },
      "source": [
        "plt.plot(epoch_no,history[\"loss\"])\n",
        "plt.xlabel(\"Epochs\")\n",
        "plt.ylabel(\"Loss\")\n",
        "plt.title('Loss')\n",
        "plt.show()\n"
      ],
      "execution_count": null,
      "outputs": []
    },
    {
      "cell_type": "markdown",
      "metadata": {
        "id": "ZP2vAxM-wsLo"
      },
      "source": [
        "\n",
        "\n",
        "\n",
        "\n"
      ]
    },
    {
      "cell_type": "code",
      "metadata": {
        "id": "thZ318D1WNlZ"
      },
      "source": [
        "plt.plot(epoch_no,history[\"lr\"])\n",
        "plt.xlabel(\"Epochs\")\n",
        "plt.ylabel(\"Learning Rates\")\n",
        "plt.title('Learnrng rates')\n",
        "plt.show()\n"
      ],
      "execution_count": null,
      "outputs": []
    },
    {
      "cell_type": "code",
      "metadata": {
        "id": "OLLqFrNsvbmF"
      },
      "source": [
        "test_score = check_accuracy(test_dataloader,model)\n",
        "print(\"Test dataset score :\",test_score)\n"
      ],
      "execution_count": null,
      "outputs": []
    },
    {
      "cell_type": "code",
      "metadata": {
        "id": "zi1Myh0TyNZA"
      },
      "source": [
        ""
      ],
      "execution_count": null,
      "outputs": []
    },
    {
      "cell_type": "code",
      "metadata": {
        "id": "hDBF5ckJztg9"
      },
      "source": [
        ""
      ],
      "execution_count": null,
      "outputs": []
    },
    {
      "cell_type": "code",
      "metadata": {
        "id": "hagDePOI1iZW"
      },
      "source": [
        ""
      ],
      "execution_count": null,
      "outputs": []
    },
    {
      "cell_type": "code",
      "metadata": {
        "id": "sHhESaGUvsCE"
      },
      "source": [
        ""
      ],
      "execution_count": null,
      "outputs": []
    },
    {
      "cell_type": "markdown",
      "metadata": {
        "id": "6aXSVYL43T2l"
      },
      "source": [
        "\n",
        "\n",
        "\n",
        "\n",
        "\n",
        "\n",
        "\n",
        "\n"
      ]
    },
    {
      "cell_type": "code",
      "metadata": {
        "id": "-XyTee_-3S6L"
      },
      "source": [
        "\n"
      ],
      "execution_count": null,
      "outputs": []
    },
    {
      "cell_type": "markdown",
      "metadata": {
        "id": "VIEVCRlOAOlv"
      },
      "source": [
        ""
      ]
    },
    {
      "cell_type": "code",
      "metadata": {
        "id": "_FQt9uzjONyV"
      },
      "source": [
        ""
      ],
      "execution_count": null,
      "outputs": []
    },
    {
      "cell_type": "code",
      "metadata": {
        "id": "flmBGea7RVba"
      },
      "source": [
        ""
      ],
      "execution_count": null,
      "outputs": []
    },
    {
      "cell_type": "code",
      "metadata": {
        "id": "k_tMxKHWR47r"
      },
      "source": [
        ""
      ],
      "execution_count": null,
      "outputs": []
    },
    {
      "cell_type": "code",
      "metadata": {
        "id": "IswNQCJySdau"
      },
      "source": [
        ""
      ],
      "execution_count": null,
      "outputs": []
    }
  ]
}