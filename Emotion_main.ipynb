{
  "nbformat": 4,
  "nbformat_minor": 0,
  "metadata": {
    "colab": {
      "name": "Emotion_main.ipynb",
      "provenance": [],
      "collapsed_sections": [],
      "include_colab_link": true
    },
    "kernelspec": {
      "display_name": "Python 3",
      "name": "python3"
    },
    "language_info": {
      "name": "python"
    },
    "accelerator": "GPU"
  },
  "cells": [
    {
      "cell_type": "markdown",
      "metadata": {
        "id": "view-in-github",
        "colab_type": "text"
      },
      "source": [
        "<a href=\"https://colab.research.google.com/github/shreyas1209/Emotion-Detection/blob/main/Emotion_main.ipynb\" target=\"_parent\"><img src=\"https://colab.research.google.com/assets/colab-badge.svg\" alt=\"Open In Colab\"/></a>"
      ]
    },
    {
      "cell_type": "markdown",
      "metadata": {
        "id": "d-SGh2x6ipIH"
      },
      "source": [
        ""
      ]
    },
    {
      "cell_type": "code",
      "metadata": {
        "id": "ItoLYqkPVqXv"
      },
      "source": [
        "#testing data preprocessing\n",
        "import torch\n",
        "import torch.nn as nn\n",
        "import numpy as np\n",
        "import pandas as pd\n",
        "import PIL\n",
        "import os\n",
        "import matplotlib.pyplot as plt\n",
        "import matplotlib.image as img\n",
        "from torchvision import datasets\n",
        "from torchvision import transforms\n",
        "from PIL import Image, ImageDraw\n",
        "from torch.utils.data import Dataset, DataLoader, TensorDataset\n",
        "from numpy import genfromtxt\n",
        "import torchvision.utils as vutils\n",
        "import cv2"
      ],
      "execution_count": 1,
      "outputs": []
    },
    {
      "cell_type": "code",
      "metadata": {
        "id": "O6b3zL4iTOd5",
        "colab": {
          "base_uri": "https://localhost:8080/"
        },
        "outputId": "8f7acaac-778d-4287-b8f2-b8b6ed5ccfcb"
      },
      "source": [
        "\n",
        "#mounting google drive\n",
        "from google.colab import drive\n",
        "drive.mount('/content/gdrive')"
      ],
      "execution_count": 3,
      "outputs": [
        {
          "output_type": "stream",
          "text": [
            "Drive already mounted at /content/gdrive; to attempt to forcibly remount, call drive.mount(\"/content/gdrive\", force_remount=True).\n"
          ],
          "name": "stdout"
        }
      ]
    },
    {
      "cell_type": "code",
      "metadata": {
        "id": "feJwv0BiZJwQ"
      },
      "source": [
        "device = torch.device(\"cuda\" if torch.cuda.is_available() else \"cpu\") "
      ],
      "execution_count": 4,
      "outputs": []
    },
    {
      "cell_type": "markdown",
      "metadata": {
        "id": "WHoC-om4NHOF"
      },
      "source": [
        "Using pandas to see how the train and validation data is stored in the csv file\n"
      ]
    },
    {
      "cell_type": "code",
      "metadata": {
        "id": "190WLfcj5dpw",
        "colab": {
          "base_uri": "https://localhost:8080/",
          "height": 415
        },
        "outputId": "bed8d48e-1fb4-424e-ebb6-266f6c9d3f70"
      },
      "source": [
        "df = pd.read_csv('/content/gdrive/MyDrive/Emotion Detector/emotion_detection/icml_face_data.csv')\n",
        "df\n"
      ],
      "execution_count": 5,
      "outputs": [
        {
          "output_type": "execute_result",
          "data": {
            "text/html": [
              "<div>\n",
              "<style scoped>\n",
              "    .dataframe tbody tr th:only-of-type {\n",
              "        vertical-align: middle;\n",
              "    }\n",
              "\n",
              "    .dataframe tbody tr th {\n",
              "        vertical-align: top;\n",
              "    }\n",
              "\n",
              "    .dataframe thead th {\n",
              "        text-align: right;\n",
              "    }\n",
              "</style>\n",
              "<table border=\"1\" class=\"dataframe\">\n",
              "  <thead>\n",
              "    <tr style=\"text-align: right;\">\n",
              "      <th></th>\n",
              "      <th>emotion</th>\n",
              "      <th>Usage</th>\n",
              "      <th>pixels</th>\n",
              "    </tr>\n",
              "  </thead>\n",
              "  <tbody>\n",
              "    <tr>\n",
              "      <th>0</th>\n",
              "      <td>0</td>\n",
              "      <td>Training</td>\n",
              "      <td>70 80 82 72 58 58 60 63 54 58 60 48 89 115 121...</td>\n",
              "    </tr>\n",
              "    <tr>\n",
              "      <th>1</th>\n",
              "      <td>0</td>\n",
              "      <td>Training</td>\n",
              "      <td>151 150 147 155 148 133 111 140 170 174 182 15...</td>\n",
              "    </tr>\n",
              "    <tr>\n",
              "      <th>2</th>\n",
              "      <td>2</td>\n",
              "      <td>Training</td>\n",
              "      <td>231 212 156 164 174 138 161 173 182 200 106 38...</td>\n",
              "    </tr>\n",
              "    <tr>\n",
              "      <th>3</th>\n",
              "      <td>4</td>\n",
              "      <td>Training</td>\n",
              "      <td>24 32 36 30 32 23 19 20 30 41 21 22 32 34 21 1...</td>\n",
              "    </tr>\n",
              "    <tr>\n",
              "      <th>4</th>\n",
              "      <td>6</td>\n",
              "      <td>Training</td>\n",
              "      <td>4 0 0 0 0 0 0 0 0 0 0 0 3 15 23 28 48 50 58 84...</td>\n",
              "    </tr>\n",
              "    <tr>\n",
              "      <th>...</th>\n",
              "      <td>...</td>\n",
              "      <td>...</td>\n",
              "      <td>...</td>\n",
              "    </tr>\n",
              "    <tr>\n",
              "      <th>35882</th>\n",
              "      <td>6</td>\n",
              "      <td>PrivateTest</td>\n",
              "      <td>50 36 17 22 23 29 33 39 34 37 37 37 39 43 48 5...</td>\n",
              "    </tr>\n",
              "    <tr>\n",
              "      <th>35883</th>\n",
              "      <td>3</td>\n",
              "      <td>PrivateTest</td>\n",
              "      <td>178 174 172 173 181 188 191 194 196 199 200 20...</td>\n",
              "    </tr>\n",
              "    <tr>\n",
              "      <th>35884</th>\n",
              "      <td>0</td>\n",
              "      <td>PrivateTest</td>\n",
              "      <td>17 17 16 23 28 22 19 17 25 26 20 24 31 19 27 9...</td>\n",
              "    </tr>\n",
              "    <tr>\n",
              "      <th>35885</th>\n",
              "      <td>3</td>\n",
              "      <td>PrivateTest</td>\n",
              "      <td>30 28 28 29 31 30 42 68 79 81 77 67 67 71 63 6...</td>\n",
              "    </tr>\n",
              "    <tr>\n",
              "      <th>35886</th>\n",
              "      <td>2</td>\n",
              "      <td>PrivateTest</td>\n",
              "      <td>19 13 14 12 13 16 21 33 50 57 71 84 97 108 122...</td>\n",
              "    </tr>\n",
              "  </tbody>\n",
              "</table>\n",
              "<p>35887 rows × 3 columns</p>\n",
              "</div>"
            ],
            "text/plain": [
              "       emotion        Usage                                             pixels\n",
              "0            0     Training  70 80 82 72 58 58 60 63 54 58 60 48 89 115 121...\n",
              "1            0     Training  151 150 147 155 148 133 111 140 170 174 182 15...\n",
              "2            2     Training  231 212 156 164 174 138 161 173 182 200 106 38...\n",
              "3            4     Training  24 32 36 30 32 23 19 20 30 41 21 22 32 34 21 1...\n",
              "4            6     Training  4 0 0 0 0 0 0 0 0 0 0 0 3 15 23 28 48 50 58 84...\n",
              "...        ...          ...                                                ...\n",
              "35882        6  PrivateTest  50 36 17 22 23 29 33 39 34 37 37 37 39 43 48 5...\n",
              "35883        3  PrivateTest  178 174 172 173 181 188 191 194 196 199 200 20...\n",
              "35884        0  PrivateTest  17 17 16 23 28 22 19 17 25 26 20 24 31 19 27 9...\n",
              "35885        3  PrivateTest  30 28 28 29 31 30 42 68 79 81 77 67 67 71 63 6...\n",
              "35886        2  PrivateTest  19 13 14 12 13 16 21 33 50 57 71 84 97 108 122...\n",
              "\n",
              "[35887 rows x 3 columns]"
            ]
          },
          "metadata": {
            "tags": []
          },
          "execution_count": 5
        }
      ]
    },
    {
      "cell_type": "code",
      "metadata": {
        "id": "1-FnjSYyEYKN"
      },
      "source": [
        "emotion_dict = {0 :'Angry' ,1 :'Disgusted' , 2 :'Fear' ,3 : 'Happy' ,4 :'Sad' ,5 :'Surprise' ,6 : 'Neutral' }"
      ],
      "execution_count": 6,
      "outputs": []
    },
    {
      "cell_type": "markdown",
      "metadata": {
        "id": "gKHKMToYHiqN"
      },
      "source": [
        "Exploratory Data Analysis"
      ]
    },
    {
      "cell_type": "code",
      "metadata": {
        "id": "FtyLzGVPHh2M",
        "colab": {
          "base_uri": "https://localhost:8080/"
        },
        "outputId": "42e1ed20-481e-497d-ad1e-f2715ac9499c"
      },
      "source": [
        "train_num_counts = np.zeros(7)\n",
        "val_num_counts = np.zeros(7)\n",
        "for i in range(7):\n",
        "  train_num_counts[i] = df['emotion'][(df['emotion']==i) &(df[' Usage'] == 'Training')].value_counts()\n",
        "  val_num_counts[i] = df['emotion'][(df['emotion']==i) &(df[' Usage'] == 'PrivateTest')].value_counts()\n",
        "print(train_num_counts,val_num_counts)"
      ],
      "execution_count": 7,
      "outputs": [
        {
          "output_type": "stream",
          "text": [
            "[3995.  436. 4097. 7215. 4830. 3171. 4965.] [491.  55. 528. 879. 594. 416. 626.]\n"
          ],
          "name": "stdout"
        }
      ]
    },
    {
      "cell_type": "markdown",
      "metadata": {
        "id": "ycwJ91CdI2Ty"
      },
      "source": [
        "Plotting the bar graph for training data"
      ]
    },
    {
      "cell_type": "code",
      "metadata": {
        "id": "boUpc9sDHiJr",
        "colab": {
          "base_uri": "https://localhost:8080/",
          "height": 302
        },
        "outputId": "1b16a978-a8a2-47b0-da8e-28817b325d47"
      },
      "source": [
        "\n",
        "plt.bar(emotion_dict.values(),train_num_counts,width = 0.5)\n",
        "plt.xlabel('Emotion',fontdict={'size': 16})\n",
        "plt.ylabel('No of instances',fontdict={'size': 16})\n",
        "plt.title(\"Training Data\",fontdict={'size': 16})\n",
        "plt.grid()\n",
        "plt.show()\n"
      ],
      "execution_count": 8,
      "outputs": [
        {
          "output_type": "display_data",
          "data": {
            "image/png": "[encoded data removed]",
            "text/plain": [
              "<Figure size 432x288 with 1 Axes>"
            ]
          },
          "metadata": {
            "tags": [],
            "needs_background": "light"
          }
        }
      ]
    },
    {
      "cell_type": "markdown",
      "metadata": {
        "id": "85HeZ7m5rQ40"
      },
      "source": [
        "The number of data items belonging to the class 'Disgusted' is quite low compared to the other classes"
      ]
    },
    {
      "cell_type": "markdown",
      "metadata": {
        "id": "Fv54zRmRJLcS"
      },
      "source": [
        "Plotting the graph for validation data"
      ]
    },
    {
      "cell_type": "code",
      "metadata": {
        "id": "mNgka2qDJE1n",
        "colab": {
          "base_uri": "https://localhost:8080/",
          "height": 302
        },
        "outputId": "b95881d0-75df-47de-c7cd-2cba3bd69dc4"
      },
      "source": [
        "plt.bar(emotion_dict.values(),val_num_counts,width = 0.5)\n",
        "plt.xlabel('Emotion',fontdict={'size': 16})\n",
        "plt.ylabel('No of instances',fontdict={'size': 16})\n",
        "plt.title(\"Validation Data\",fontdict={'size': 16})\n",
        "plt.grid()\n",
        "\n",
        "plt.show()"
      ],
      "execution_count": 9,
      "outputs": [
        {
          "output_type": "display_data",
          "data": {
            "image/png": "[encoded data removed]",
            "text/plain": [
              "<Figure size 432x288 with 1 Axes>"
            ]
          },
          "metadata": {
            "tags": [],
            "needs_background": "light"
          }
        }
      ]
    },
    {
      "cell_type": "markdown",
      "metadata": {
        "id": "X0xana8k28qE"
      },
      "source": [
        "function that converts string data to tensor"
      ]
    },
    {
      "cell_type": "code",
      "metadata": {
        "id": "F8PcOtJGV4d1"
      },
      "source": [
        "def totensor(dataval):\n",
        "  data = dataval.split()\n",
        "  data = [int(i) for i in data]\n",
        "  data = torch.tensor(data, dtype = torch.float)\n",
        "  return data\n",
        "\n",
        "\n",
        "\n",
        "\n",
        "    \n",
        "    \n"
      ],
      "execution_count": 10,
      "outputs": []
    },
    {
      "cell_type": "code",
      "metadata": {
        "id": "3aB8aoj_hV1T"
      },
      "source": [
        "def DATASET (df,normalize = 'False'):\n",
        "  data = df[' pixels']\n",
        "  data = [totensor(i) for i in data]\n",
        "  data = torch.stack([image for image in data])\n",
        "  data = (data.reshape(data.shape[0],1,48,48)/256)\n",
        "  if normalize == 'True':\n",
        "    datastack = torch.stack([data[i] for i in range(len(data))],dim= 2)\n",
        "    mean = datastack.view(1,-1).mean(dim = 1)\n",
        "    std = datastack.view(1,-1).std(dim = 1)\n",
        "    print(mean, std)\n",
        "    data = ((data-mean)/std)\n",
        "    \n",
        "\n",
        "  labels = torch.tensor(df['emotion'].to_numpy())\n",
        "  dataset = TensorDataset(data, labels)\n",
        "  return dataset\n",
        "\n",
        "\n",
        "\n",
        "\n",
        "\n",
        "\n",
        "\n",
        "\n"
      ],
      "execution_count": 11,
      "outputs": []
    },
    {
      "cell_type": "code",
      "metadata": {
        "id": "J5M8w9nA7lJM",
        "colab": {
          "base_uri": "https://localhost:8080/"
        },
        "outputId": "35ca259b-4001-4c05-d7f1-fadc0b9175f6"
      },
      "source": [
        "train_dataset = DATASET(df[df[' Usage']=='Training'],normalize = 'True')\n",
        "val_dataset = DATASET(df[df[' Usage']=='PrivateTest'],normalize = 'True')\n",
        "test_dataset = DATASET(df[df[' Usage']=='PublicTest'],normalize = 'True')"
      ],
      "execution_count": 12,
      "outputs": [
        {
          "output_type": "stream",
          "text": [
            "tensor([0.5058]) tensor([0.2540])\n",
            "tensor([0.5042]) tensor([0.2553])\n",
            "tensor([0.5038]) tensor([0.2539])\n"
          ],
          "name": "stdout"
        }
      ]
    },
    {
      "cell_type": "code",
      "metadata": {
        "id": "oIYL7zN35q58",
        "colab": {
          "base_uri": "https://localhost:8080/",
          "height": 406
        },
        "outputId": "7c18a899-fc00-465e-e905-02e41bdac419"
      },
      "source": [
        "print(train_dataset[0][0])\n",
        "plt.imshow(train_dataset[0][0].reshape(48,48))\n"
      ],
      "execution_count": 13,
      "outputs": [
        {
          "output_type": "stream",
          "text": [
            "tensor([[[-0.9146, -0.7608, -0.7301,  ..., -1.1914, -1.3298, -1.3606],\n",
            "         [-0.9915, -1.0530, -1.0991,  ..., -1.1299, -1.1914, -1.3144],\n",
            "         [-1.2222, -1.3298, -1.1607,  ..., -1.2375, -1.1299, -1.2683],\n",
            "         ...,\n",
            "         [-0.5917, -0.9915, -1.3452,  ..., -0.8838, -1.1299, -1.3298],\n",
            "         [-0.8070, -0.7301, -0.7762,  ..., -0.3764, -0.9146, -1.2837],\n",
            "         [-0.8070, -0.8838, -0.6993,  ..., -0.3610, -0.3149, -0.7301]]])\n"
          ],
          "name": "stdout"
        },
        {
          "output_type": "execute_result",
          "data": {
            "text/plain": [
              "<matplotlib.image.AxesImage at 0x7f5b4d95b950>"
            ]
          },
          "metadata": {
            "tags": []
          },
          "execution_count": 13
        },
        {
          "output_type": "display_data",
          "data": {
            "image/png": "[encoded data removed]",
            "text/plain": [
              "<Figure size 432x288 with 1 Axes>"
            ]
          },
          "metadata": {
            "tags": [],
            "needs_background": "light"
          }
        }
      ]
    },
    {
      "cell_type": "code",
      "metadata": {
        "id": "Y_2gq-BaD_sa",
        "colab": {
          "base_uri": "https://localhost:8080/",
          "height": 285
        },
        "outputId": "c3300805-9208-4e1a-8531-3420180a0b07"
      },
      "source": [
        "val_dataset[0][0]\n",
        "plt.imshow(val_dataset[0][0].reshape(48,48))"
      ],
      "execution_count": 14,
      "outputs": [
        {
          "output_type": "execute_result",
          "data": {
            "text/plain": [
              "<matplotlib.image.AxesImage at 0x7f5b4dec8b10>"
            ]
          },
          "metadata": {
            "tags": []
          },
          "execution_count": 14
        },
        {
          "output_type": "display_data",
          "data": {
            "image/png": "[encoded data removed]",
            "text/plain": [
              "<Figure size 432x288 with 1 Axes>"
            ]
          },
          "metadata": {
            "tags": [],
            "needs_background": "light"
          }
        }
      ]
    },
    {
      "cell_type": "code",
      "metadata": {
        "id": "B_vEAdJzD_d2",
        "colab": {
          "base_uri": "https://localhost:8080/",
          "height": 510
        },
        "outputId": "9f9d5840-b414-4cbf-be95-4d949b3345a6"
      },
      "source": [
        "print(test_dataset[0][0])\n",
        "plt.imshow(test_dataset[0][0].reshape(48,48))"
      ],
      "execution_count": 15,
      "outputs": [
        {
          "output_type": "stream",
          "text": [
            "tensor([[[ 1.9232e+00,  1.9232e+00,  1.9232e+00,  ..., -1.7380e+00,\n",
            "          -1.9841e+00,  4.9255e-01],\n",
            "         [ 1.9232e+00,  1.9232e+00,  1.9232e+00,  ..., -1.7226e+00,\n",
            "          -1.9841e+00, -1.0739e-01],\n",
            "         [ 1.9232e+00,  1.9232e+00,  1.9232e+00,  ..., -1.5842e+00,\n",
            "          -1.9841e+00, -2.3046e-01],\n",
            "         ...,\n",
            "         [-9.6885e-01, -6.6119e-01, -4.6120e-01,  ...,  1.9386e+00,\n",
            "           1.8924e+00,  1.9232e+00],\n",
            "         [-6.9195e-01, -5.6889e-01, -5.6889e-01,  ...,  1.6463e+00,\n",
            "           1.9386e+00,  1.9386e+00],\n",
            "         [-5.5350e-01, -5.9965e-01, -6.7657e-01,  ..., -1.3380e+00,\n",
            "           2.9177e-04,  7.8483e-01]]])\n"
          ],
          "name": "stdout"
        },
        {
          "output_type": "execute_result",
          "data": {
            "text/plain": [
              "<matplotlib.image.AxesImage at 0x7f5b4deeef10>"
            ]
          },
          "metadata": {
            "tags": []
          },
          "execution_count": 15
        },
        {
          "output_type": "display_data",
          "data": {
            "image/png": "[encoded data removed]",
            "text/plain": [
              "<Figure size 432x288 with 1 Axes>"
            ]
          },
          "metadata": {
            "tags": [],
            "needs_background": "light"
          }
        }
      ]
    },
    {
      "cell_type": "code",
      "metadata": {
        "id": "xB3_D-J8Gx69"
      },
      "source": [
        "batch_size = 128"
      ],
      "execution_count": 16,
      "outputs": []
    },
    {
      "cell_type": "code",
      "metadata": {
        "id": "3uLlDU-126Uq"
      },
      "source": [
        "train_dataloader = DataLoader(train_dataset, batch_size = batch_size)\n",
        "val_dataloader = DataLoader(val_dataset, batch_size = batch_size)\n",
        "test_dataloader = DataLoader(test_dataset, batch_size = batch_size)\n"
      ],
      "execution_count": 17,
      "outputs": []
    },
    {
      "cell_type": "markdown",
      "metadata": {
        "id": "7VygcgA7Jefr"
      },
      "source": [
        "Importing the training and models module"
      ]
    },
    {
      "cell_type": "code",
      "metadata": {
        "id": "oyfmRdAivwk7"
      },
      "source": [
        "import sys\n",
        "\n",
        "sys.path.append('/content/gdrive/MyDrive/Emotion Detector') \n"
      ],
      "execution_count": 18,
      "outputs": []
    },
    {
      "cell_type": "code",
      "metadata": {
        "id": "GDbeguJWJwdU",
        "colab": {
          "base_uri": "https://localhost:8080/"
        },
        "outputId": "a2048c04-4ea8-4e85-e9db-1c457c8e57dd"
      },
      "source": [
        "from Emotion_train import *\n",
        "from Emotion_models import *"
      ],
      "execution_count": 19,
      "outputs": [
        {
          "output_type": "stream",
          "text": [
            "Drive already mounted at /content/gdrive; to attempt to forcibly remount, call drive.mount(\"/content/gdrive\", force_remount=True).\n"
          ],
          "name": "stdout"
        }
      ]
    },
    {
      "cell_type": "code",
      "metadata": {
        "id": "u4D16BOz09Nu"
      },
      "source": [
        "model = emonet(7)\n",
        "learning_rate = 1e-3\n",
        "epochs = 50\n",
        "optimizer = optim.Adam(model.parameters(), lr = learning_rate)\n",
        "loss_func = nn.CrossEntropyLoss()\n",
        "\n",
        "\n",
        "\n",
        "\n",
        "    \n",
        "    \n",
        "\n",
        "    "
      ],
      "execution_count": 20,
      "outputs": []
    },
    {
      "cell_type": "markdown",
      "metadata": {
        "id": "DujiGtUSoax5"
      },
      "source": [
        "\n",
        "\n"
      ]
    },
    {
      "cell_type": "code",
      "metadata": {
        "id": "6Df2pObHUFi-",
        "colab": {
          "base_uri": "https://localhost:8080/"
        },
        "outputId": "ba8249d2-333d-43ab-91c4-d1ee648fbc62"
      },
      "source": [
        "start = time.process_time()\n",
        "model,history = train(train_dataloader,val_dataloader,epochs,model,loss_func,optimizer)\n",
        "end = time.process_time()\n",
        "elapsed = end-start\n",
        "print(\"Total time :\", elapsed)"
      ],
      "execution_count": 21,
      "outputs": [
        {
          "output_type": "stream",
          "text": [
            "Epoch (1/50),Training loss : 1.4665, Time: 17.62,Last lr: 0.00100 train_accuracy:0.5065, val_accuracy:0.4845\n",
            "Epoch (2/50),Training loss : 1.3676, Time: 17.41,Last lr: 0.01080 train_accuracy:0.4988, val_accuracy:0.4862\n",
            "Epoch (3/50),Training loss : 1.2063, Time: 17.61,Last lr: 0.02060 train_accuracy:0.5786, val_accuracy:0.5497\n",
            "Epoch (4/50),Training loss : 1.1265, Time: 17.38,Last lr: 0.03040 train_accuracy:0.5715, val_accuracy:0.5386\n",
            "Epoch (5/50),Training loss : 1.0754, Time: 17.61,Last lr: 0.04020 train_accuracy:0.6077, val_accuracy:0.5550\n",
            "Epoch (6/50),Training loss : 1.0365, Time: 17.36,Last lr: 0.05000 train_accuracy:0.5607, val_accuracy:0.5054\n",
            "Epoch (7/50),Training loss : 0.9412, Time: 17.58,Last lr: 0.04020 train_accuracy:0.5927, val_accuracy:0.5361\n",
            "Epoch (8/50),Training loss : 0.8402, Time: 17.36,Last lr: 0.03040 train_accuracy:0.5762, val_accuracy:0.5071\n",
            "Epoch (9/50),Training loss : 0.7430, Time: 17.67,Last lr: 0.02060 train_accuracy:0.6540, val_accuracy:0.5500\n",
            "Epoch (10/50),Training loss : 0.6064, Time: 17.40,Last lr: 0.01080 train_accuracy:0.7421, val_accuracy:0.5651\n",
            "Epoch (11/50),Training loss : 0.4922, Time: 17.66,Last lr: 0.00100 train_accuracy:0.8500, val_accuracy:0.6208\n",
            "Epoch (12/50),Training loss : 0.4197, Time: 17.36,Last lr: 0.00590 train_accuracy:0.8088, val_accuracy:0.5860\n",
            "Epoch (13/50),Training loss : 0.3538, Time: 17.62,Last lr: 0.01080 train_accuracy:0.8209, val_accuracy:0.5740\n",
            "Epoch (14/50),Training loss : 0.4120, Time: 17.37,Last lr: 0.01570 train_accuracy:0.7737, val_accuracy:0.5561\n",
            "Epoch (15/50),Training loss : 0.4512, Time: 17.58,Last lr: 0.02060 train_accuracy:0.7670, val_accuracy:0.5648\n",
            "Epoch (16/50),Training loss : 0.4487, Time: 17.39,Last lr: 0.02550 train_accuracy:0.7029, val_accuracy:0.5339\n",
            "Epoch (17/50),Training loss : 0.3448, Time: 17.65,Last lr: 0.02060 train_accuracy:0.8187, val_accuracy:0.5843\n",
            "Epoch (18/50),Training loss : 0.2596, Time: 17.35,Last lr: 0.01570 train_accuracy:0.8362, val_accuracy:0.5823\n",
            "Epoch (19/50),Training loss : 0.1856, Time: 17.60,Last lr: 0.01080 train_accuracy:0.8581, val_accuracy:0.5868\n",
            "Epoch (20/50),Training loss : 0.1173, Time: 17.41,Last lr: 0.00590 train_accuracy:0.9542, val_accuracy:0.6186\n",
            "Epoch (21/50),Training loss : 0.0647, Time: 17.60,Last lr: 0.00100 train_accuracy:0.9910, val_accuracy:0.6216\n",
            "Epoch (22/50),Training loss : 0.0331, Time: 17.37,Last lr: 0.00345 train_accuracy:0.9905, val_accuracy:0.6202\n",
            "Epoch (23/50),Training loss : 0.0245, Time: 17.61,Last lr: 0.00590 train_accuracy:0.9908, val_accuracy:0.6186\n",
            "Epoch (24/50),Training loss : 0.0256, Time: 17.45,Last lr: 0.00835 train_accuracy:0.9885, val_accuracy:0.6163\n",
            "Epoch (25/50),Training loss : 0.0253, Time: 17.62,Last lr: 0.01080 train_accuracy:0.9738, val_accuracy:0.6199\n",
            "Epoch (26/50),Training loss : 0.1606, Time: 17.38,Last lr: 0.01325 train_accuracy:0.8537, val_accuracy:0.5991\n",
            "Epoch (27/50),Training loss : 0.1548, Time: 17.65,Last lr: 0.01080 train_accuracy:0.8946, val_accuracy:0.5932\n",
            "Epoch (28/50),Training loss : 0.0807, Time: 17.39,Last lr: 0.00835 train_accuracy:0.9243, val_accuracy:0.6010\n",
            "Epoch (29/50),Training loss : 0.0444, Time: 17.60,Last lr: 0.00590 train_accuracy:0.9798, val_accuracy:0.6133\n",
            "Epoch (30/50),Training loss : 0.0207, Time: 17.39,Last lr: 0.00345 train_accuracy:0.9940, val_accuracy:0.6205\n",
            "Epoch (31/50),Training loss : 0.0110, Time: 17.64,Last lr: 0.00100 train_accuracy:0.9976, val_accuracy:0.6255\n",
            "Epoch (32/50),Training loss : 0.0071, Time: 17.38,Last lr: 0.00222 train_accuracy:0.9975, val_accuracy:0.6255\n",
            "Epoch (33/50),Training loss : 0.0093, Time: 17.60,Last lr: 0.00345 train_accuracy:0.9973, val_accuracy:0.6264\n",
            "Epoch (34/50),Training loss : 0.0124, Time: 17.41,Last lr: 0.00467 train_accuracy:0.9964, val_accuracy:0.6255\n",
            "Epoch (35/50),Training loss : 0.0128, Time: 17.61,Last lr: 0.00590 train_accuracy:0.9954, val_accuracy:0.6216\n",
            "Epoch (36/50),Training loss : 0.0135, Time: 17.35,Last lr: 0.00713 train_accuracy:0.9943, val_accuracy:0.6216\n",
            "Epoch (37/50),Training loss : 0.0105, Time: 17.63,Last lr: 0.00590 train_accuracy:0.9947, val_accuracy:0.6239\n",
            "Epoch (38/50),Training loss : 0.0086, Time: 17.44,Last lr: 0.00467 train_accuracy:0.9968, val_accuracy:0.6227\n",
            "Epoch (39/50),Training loss : 0.0073, Time: 17.64,Last lr: 0.00345 train_accuracy:0.9975, val_accuracy:0.6219\n",
            "Epoch (40/50),Training loss : 0.0052, Time: 17.41,Last lr: 0.00222 train_accuracy:0.9980, val_accuracy:0.6247\n",
            "Epoch (41/50),Training loss : 0.0031, Time: 17.63,Last lr: 0.00100 train_accuracy:0.9983, val_accuracy:0.6261\n",
            "Epoch (42/50),Training loss : 0.0028, Time: 17.42,Last lr: 0.00161 train_accuracy:0.9982, val_accuracy:0.6258\n",
            "Epoch (43/50),Training loss : 0.0037, Time: 17.61,Last lr: 0.00223 train_accuracy:0.9982, val_accuracy:0.6230\n",
            "Epoch (44/50),Training loss : 0.0049, Time: 17.44,Last lr: 0.00284 train_accuracy:0.9980, val_accuracy:0.6227\n",
            "Epoch (45/50),Training loss : 0.0069, Time: 17.65,Last lr: 0.00345 train_accuracy:0.9979, val_accuracy:0.6208\n",
            "Epoch (46/50),Training loss : 0.0109, Time: 17.41,Last lr: 0.00406 train_accuracy:0.9879, val_accuracy:0.6144\n",
            "Epoch (47/50),Training loss : 0.0320, Time: 17.63,Last lr: 0.00345 train_accuracy:0.9786, val_accuracy:0.6102\n",
            "Epoch (48/50),Training loss : 0.0199, Time: 17.44,Last lr: 0.00284 train_accuracy:0.9947, val_accuracy:0.6211\n",
            "Epoch (49/50),Training loss : 0.0057, Time: 17.59,Last lr: 0.00223 train_accuracy:0.9978, val_accuracy:0.6252\n",
            "Epoch (50/50),Training loss : 0.0029, Time: 17.43,Last lr: 0.00161 train_accuracy:0.9980, val_accuracy:0.6264\n",
            "Total time : 877.386685807\n"
          ],
          "name": "stdout"
        }
      ]
    },
    {
      "cell_type": "markdown",
      "metadata": {
        "id": "36JXh8eXQzwe"
      },
      "source": [
        "Post training analysis"
      ]
    },
    {
      "cell_type": "code",
      "metadata": {
        "id": "P78t-6M4QoPg",
        "colab": {
          "base_uri": "https://localhost:8080/",
          "height": 295
        },
        "outputId": "c45fd587-48a3-4201-bb67-6e7430fbd6db"
      },
      "source": [
        "epoch_no = [(i+1) for i in range(epochs)]\n",
        "\n",
        "plt.plot(epoch_no,history[\"train_accuracy\"], label = 'Train Accuracies')\n",
        "plt.plot(epoch_no,history[\"val_accuracy\"], label = 'Validation Accuracies')\n",
        "plt.xlabel(\"Epochs\")\n",
        "plt.ylabel(\"Accuracies\")\n",
        "plt.title('Accuracy')\n",
        "plt.legend()\n",
        "plt.show()\n",
        "\n",
        "\n",
        "\n"
      ],
      "execution_count": 22,
      "outputs": [
        {
          "output_type": "display_data",
          "data": {
            "image/png": "[encoded data removed]",
            "text/plain": [
              "<Figure size 432x288 with 1 Axes>"
            ]
          },
          "metadata": {
            "tags": [],
            "needs_background": "light"
          }
        }
      ]
    },
    {
      "cell_type": "markdown",
      "metadata": {
        "id": "uBimiN13NZuc"
      },
      "source": [
        ""
      ]
    },
    {
      "cell_type": "code",
      "metadata": {
        "id": "tZtypC1DVIcD",
        "colab": {
          "base_uri": "https://localhost:8080/",
          "height": 295
        },
        "outputId": "92a2bc89-6643-49a2-f0f7-2ba2cc71defd"
      },
      "source": [
        "plt.plot(epoch_no,history[\"loss\"])\n",
        "plt.xlabel(\"Epochs\")\n",
        "plt.ylabel(\"Loss\")\n",
        "plt.title('Loss')\n",
        "plt.show()\n"
      ],
      "execution_count": 23,
      "outputs": [
        {
          "output_type": "display_data",
          "data": {
            "image/png": "[encoded data removed]",
            "text/plain": [
              "<Figure size 432x288 with 1 Axes>"
            ]
          },
          "metadata": {
            "tags": [],
            "needs_background": "light"
          }
        }
      ]
    },
    {
      "cell_type": "markdown",
      "metadata": {
        "id": "ZP2vAxM-wsLo"
      },
      "source": [
        "\n",
        "\n",
        "\n",
        "\n"
      ]
    },
    {
      "cell_type": "code",
      "metadata": {
        "id": "thZ318D1WNlZ",
        "colab": {
          "base_uri": "https://localhost:8080/",
          "height": 295
        },
        "outputId": "08ef47e3-c5b6-473b-a978-df0ea7df75a5"
      },
      "source": [
        "plt.plot(epoch_no,history[\"lr\"])\n",
        "plt.xlabel(\"Epochs\")\n",
        "plt.ylabel(\"Learning Rates\")\n",
        "plt.title('Learnrng rates')\n",
        "plt.show()\n"
      ],
      "execution_count": 24,
      "outputs": [
        {
          "output_type": "display_data",
          "data": {
            "image/png": "[encoded data removed]",
            "text/plain": [
              "<Figure size 432x288 with 1 Axes>"
            ]
          },
          "metadata": {
            "tags": [],
            "needs_background": "light"
          }
        }
      ]
    },
    {
      "cell_type": "code",
      "metadata": {
        "id": "OLLqFrNsvbmF",
        "colab": {
          "base_uri": "https://localhost:8080/"
        },
        "outputId": "0beae2f8-7df4-4bcf-ffac-f794931a394f"
      },
      "source": [
        "test_score = check_accuracy(model,test_dataloader)\n",
        "print(\"Test dataset score :\",test_score)\n"
      ],
      "execution_count": 25,
      "outputs": [
        {
          "output_type": "stream",
          "text": [
            "Test dataset score : 0.6135413764279743\n"
          ],
          "name": "stdout"
        }
      ]
    },
    {
      "cell_type": "code",
      "metadata": {
        "id": "zi1Myh0TyNZA"
      },
      "source": [
        ""
      ],
      "execution_count": 25,
      "outputs": []
    },
    {
      "cell_type": "code",
      "metadata": {
        "id": "hDBF5ckJztg9"
      },
      "source": [
        ""
      ],
      "execution_count": 25,
      "outputs": []
    },
    {
      "cell_type": "code",
      "metadata": {
        "id": "hagDePOI1iZW"
      },
      "source": [
        ""
      ],
      "execution_count": 25,
      "outputs": []
    },
    {
      "cell_type": "code",
      "metadata": {
        "id": "sHhESaGUvsCE"
      },
      "source": [
        ""
      ],
      "execution_count": 25,
      "outputs": []
    },
    {
      "cell_type": "markdown",
      "metadata": {
        "id": "6aXSVYL43T2l"
      },
      "source": [
        "\n",
        "\n",
        "\n",
        "\n",
        "\n",
        "\n",
        "\n",
        "\n"
      ]
    },
    {
      "cell_type": "code",
      "metadata": {
        "id": "-XyTee_-3S6L"
      },
      "source": [
        "\n"
      ],
      "execution_count": 25,
      "outputs": []
    },
    {
      "cell_type": "markdown",
      "metadata": {
        "id": "VIEVCRlOAOlv"
      },
      "source": [
        ""
      ]
    },
    {
      "cell_type": "code",
      "metadata": {
        "id": "_FQt9uzjONyV"
      },
      "source": [
        ""
      ],
      "execution_count": 25,
      "outputs": []
    },
    {
      "cell_type": "code",
      "metadata": {
        "id": "flmBGea7RVba"
      },
      "source": [
        ""
      ],
      "execution_count": 25,
      "outputs": []
    },
    {
      "cell_type": "code",
      "metadata": {
        "id": "k_tMxKHWR47r"
      },
      "source": [
        ""
      ],
      "execution_count": 25,
      "outputs": []
    },
    {
      "cell_type": "code",
      "metadata": {
        "id": "IswNQCJySdau"
      },
      "source": [
        ""
      ],
      "execution_count": 25,
      "outputs": []
    }
  ]
}