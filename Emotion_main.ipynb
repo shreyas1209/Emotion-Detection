{
  "nbformat": 4,
  "nbformat_minor": 0,
  "metadata": {
    "colab": {
      "name": "Emotion_main.ipynb",
      "provenance": [],
      "collapsed_sections": [],
      "include_colab_link": true
    },
    "kernelspec": {
      "display_name": "Python 3",
      "name": "python3"
    },
    "language_info": {
      "name": "python"
    },
    "accelerator": "GPU"
  },
  "cells": [
    {
      "cell_type": "markdown",
      "metadata": {
        "id": "view-in-github",
        "colab_type": "text"
      },
      "source": [
        "<a href=\"https://colab.research.google.com/github/shreyas1209/Emotion-Detection/blob/main/Emotion_main.ipynb\" target=\"_parent\"><img src=\"https://colab.research.google.com/assets/colab-badge.svg\" alt=\"Open In Colab\"/></a>"
      ]
    },
    {
      "cell_type": "markdown",
      "metadata": {
        "id": "d-SGh2x6ipIH"
      },
      "source": [
        ""
      ]
    },
    {
      "cell_type": "code",
      "metadata": {
        "id": "ItoLYqkPVqXv"
      },
      "source": [
        "#testing data preprocessing\n",
        "import torch\n",
        "import torch.nn as nn\n",
        "import numpy as np\n",
        "import pandas as pd\n",
        "import PIL\n",
        "import os\n",
        "import matplotlib.pyplot as plt\n",
        "import matplotlib.image as img\n",
        "from torchvision import datasets\n",
        "from torchvision import transforms\n",
        "from PIL import Image, ImageDraw\n",
        "from torch.utils.data import Dataset, DataLoader, TensorDataset\n",
        "from numpy import genfromtxt\n",
        "import torchvision.utils as vutils\n",
        "import cv2"
      ],
      "execution_count": 2,
      "outputs": []
    },
    {
      "cell_type": "code",
      "metadata": {
        "id": "O6b3zL4iTOd5"
      },
      "source": [
        "\n",
        "#mounting google drive\n",
        "from google.colab import drive\n",
        "drive.mount('/content/gdrive')"
      ],
      "execution_count": null,
      "outputs": []
    },
    {
      "cell_type": "code",
      "metadata": {
        "id": "feJwv0BiZJwQ"
      },
      "source": [
        "device = torch.device(\"cuda\" if torch.cuda.is_available() else \"cpu\") "
      ],
      "execution_count": null,
      "outputs": []
    },
    {
      "cell_type": "markdown",
      "metadata": {
        "id": "WHoC-om4NHOF"
      },
      "source": [
        "Using pandas to see how the train and validation data is stored in the csv file\n"
      ]
    },
    {
      "cell_type": "code",
      "metadata": {
        "id": "190WLfcj5dpw"
      },
      "source": [
        "df = pd.read_csv('/content/gdrive/MyDrive/Emotion Detector/emotion_detection/icml_face_data.csv')\n",
        "df\n"
      ],
      "execution_count": null,
      "outputs": []
    },
    {
      "cell_type": "code",
      "metadata": {
        "id": "1-FnjSYyEYKN"
      },
      "source": [
        "emotion_dict = {0 :'Angry' ,1 :'Disgusted' , 2 :'Fear' ,3 : 'Happy' ,4 :'Sad' ,5 :'Surprise' ,6 : 'Neutral' }"
      ],
      "execution_count": null,
      "outputs": []
    },
    {
      "cell_type": "markdown",
      "metadata": {
        "id": "gKHKMToYHiqN"
      },
      "source": [
        "Exploratory Data Analysis"
      ]
    },
    {
      "cell_type": "code",
      "metadata": {
        "id": "FtyLzGVPHh2M"
      },
      "source": [
        "train_num_counts = np.zeros(7)\n",
        "val_num_counts = np.zeros(7)\n",
        "for i in range(7):\n",
        "  train_num_counts[i] = df['emotion'][(df['emotion']==i) &(df[' Usage'] == 'Training')].value_counts()\n",
        "  val_num_counts[i] = df['emotion'][(df['emotion']==i) &(df[' Usage'] == 'PrivateTest')].value_counts()\n",
        "print(train_num_counts,val_num_counts)"
      ],
      "execution_count": null,
      "outputs": []
    },
    {
      "cell_type": "markdown",
      "metadata": {
        "id": "ycwJ91CdI2Ty"
      },
      "source": [
        "Plotting the bar graph for training data"
      ]
    },
    {
      "cell_type": "code",
      "metadata": {
        "id": "boUpc9sDHiJr"
      },
      "source": [
        "\n",
        "plt.bar(emotion_dict.values(),train_num_counts,width = 0.5)\n",
        "plt.xlabel('Emotion',fontdict={'size': 16})\n",
        "plt.ylabel('No of instances',fontdict={'size': 16})\n",
        "plt.title(\"Training Data\",fontdict={'size': 16})\n",
        "plt.grid()\n",
        "plt.show()\n"
      ],
      "execution_count": null,
      "outputs": []
    },
    {
      "cell_type": "markdown",
      "metadata": {
        "id": "85HeZ7m5rQ40"
      },
      "source": [
        "The number of data items belonging to the class 'Disgusted' is quite low compared to the other classes"
      ]
    },
    {
      "cell_type": "markdown",
      "metadata": {
        "id": "Fv54zRmRJLcS"
      },
      "source": [
        "Plotting the graph for validation data"
      ]
    },
    {
      "cell_type": "code",
      "metadata": {
        "id": "mNgka2qDJE1n"
      },
      "source": [
        "plt.bar(emotion_dict.values(),val_num_counts,width = 0.5)\n",
        "plt.xlabel('Emotion',fontdict={'size': 16})\n",
        "plt.ylabel('No of instances',fontdict={'size': 16})\n",
        "plt.title(\"Validation Data\",fontdict={'size': 16})\n",
        "plt.grid()\n",
        "\n",
        "plt.show()"
      ],
      "execution_count": null,
      "outputs": []
    },
    {
      "cell_type": "markdown",
      "metadata": {
        "id": "X0xana8k28qE"
      },
      "source": [
        "function that converts string data to tensor"
      ]
    },
    {
      "cell_type": "code",
      "metadata": {
        "id": "F8PcOtJGV4d1"
      },
      "source": [
        "def totensor(dataval):\n",
        "  data = dataval.split()\n",
        "  data = [int(i) for i in data]\n",
        "  data = torch.tensor(data, dtype = torch.float)\n",
        "  return data\n",
        "\n",
        "\n",
        "\n",
        "\n",
        "    \n",
        "    \n"
      ],
      "execution_count": null,
      "outputs": []
    },
    {
      "cell_type": "code",
      "metadata": {
        "id": "3aB8aoj_hV1T"
      },
      "source": [
        "def DATASET (df,normalize = 'False'):\n",
        "  data = df[' pixels']\n",
        "  data = [totensor(i) for i in data]\n",
        "  data = torch.stack([image for image in data])\n",
        "  data = (data.reshape(data.shape[0],1,48,48)/256)\n",
        "  if normalize == 'True':\n",
        "    datastack = torch.stack([data[i] for i in range(len(data))],dim= 2)\n",
        "    mean = datastack.view(1,-1).mean(dim = 1)\n",
        "    std = datastack.view(1,-1).std(dim = 1)\n",
        "    print(mean, std)\n",
        "    data = ((data-mean)/std)\n",
        "    \n",
        "\n",
        "  labels = torch.tensor(df['emotion'].to_numpy())\n",
        "  dataset = TensorDataset(data, labels)\n",
        "  return dataset\n",
        "\n",
        "\n",
        "\n",
        "\n",
        "\n",
        "\n",
        "\n",
        "\n"
      ],
      "execution_count": null,
      "outputs": []
    },
    {
      "cell_type": "code",
      "metadata": {
        "id": "J5M8w9nA7lJM"
      },
      "source": [
        "train_dataset = DATASET(df[df[' Usage']=='Training'],normalize = 'True')\n",
        "val_dataset = DATASET(df[df[' Usage']=='PrivateTest'],normalize = 'True')\n",
        "test_dataset = DATASET(df[df[' Usage']=='PublicTest'],normalize = 'True')"
      ],
      "execution_count": null,
      "outputs": []
    },
    {
      "cell_type": "code",
      "metadata": {
        "id": "oIYL7zN35q58"
      },
      "source": [
        "print(train_dataset[0][0])\n",
        "plt.imshow(train_dataset[0][0].reshape(48,48))\n"
      ],
      "execution_count": null,
      "outputs": []
    },
    {
      "cell_type": "code",
      "metadata": {
        "id": "Y_2gq-BaD_sa"
      },
      "source": [
        "val_dataset[0][0]\n",
        "plt.imshow(val_dataset[0][0].reshape(48,48))"
      ],
      "execution_count": null,
      "outputs": []
    },
    {
      "cell_type": "code",
      "metadata": {
        "id": "B_vEAdJzD_d2"
      },
      "source": [
        "print(test_dataset[0][0])\n",
        "plt.imshow(test_dataset[0][0].reshape(48,48))"
      ],
      "execution_count": null,
      "outputs": []
    },
    {
      "cell_type": "code",
      "metadata": {
        "id": "xB3_D-J8Gx69"
      },
      "source": [
        "batch_size = 128"
      ],
      "execution_count": null,
      "outputs": []
    },
    {
      "cell_type": "code",
      "metadata": {
        "id": "3uLlDU-126Uq"
      },
      "source": [
        "train_dataloader = DataLoader(train_dataset, batch_size = batch_size)\n",
        "val_dataloader = DataLoader(val_dataset, batch_size = batch_size)\n",
        "test_dataloader = DataLoader(test_dataset, batch_size = batch_size)\n"
      ],
      "execution_count": null,
      "outputs": []
    },
    {
      "cell_type": "markdown",
      "metadata": {
        "id": "7VygcgA7Jefr"
      },
      "source": [
        "Importing the training and models module"
      ]
    },
    {
      "cell_type": "code",
      "metadata": {
        "id": "oyfmRdAivwk7"
      },
      "source": [
        "import sys\n",
        "\n",
        "sys.path.append('/content/gdrive/MyDrive/Emotion Detector') \n"
      ],
      "execution_count": null,
      "outputs": []
    },
    {
      "cell_type": "code",
      "metadata": {
        "id": "GDbeguJWJwdU"
      },
      "source": [
        "from Emotion_train import *\n",
        "from Emotion_models import *"
      ],
      "execution_count": null,
      "outputs": []
    },
    {
      "cell_type": "code",
      "metadata": {
        "id": "u4D16BOz09Nu"
      },
      "source": [
        "model = emonet(7)\n",
        "learning_rate = 1e-3\n",
        "epochs = 50\n",
        "optimizer = optim.Adam(model.parameters(), lr = learning_rate)\n",
        "loss_func = nn.CrossEntropyLoss()\n",
        "\n",
        "\n",
        "\n",
        "\n",
        "    \n",
        "    \n",
        "\n",
        "    "
      ],
      "execution_count": null,
      "outputs": []
    },
    {
      "cell_type": "markdown",
      "metadata": {
        "id": "DujiGtUSoax5"
      },
      "source": [
        "\n",
        "\n"
      ]
    },
    {
      "cell_type": "code",
      "metadata": {
        "id": "6Df2pObHUFi-"
      },
      "source": [
        "start = time.process_time()\n",
        "model,history = train(train_dataloader,val_dataloader,epochs,model,loss_func,optimizer)\n",
        "end = time.process_time()\n",
        "elapsed = end-start\n",
        "print(\"Total time :\", elapsed)"
      ],
      "execution_count": null,
      "outputs": []
    },
    {
      "cell_type": "markdown",
      "metadata": {
        "id": "36JXh8eXQzwe"
      },
      "source": [
        "Post training analysis"
      ]
    },
    {
      "cell_type": "code",
      "metadata": {
        "id": "P78t-6M4QoPg"
      },
      "source": [
        "epoch_no = [(i+1) for i in range(epochs)]\n",
        "\n",
        "plt.plot(epoch_no,history[\"train_accuracy\"], label = 'Train Accuracies')\n",
        "plt.plot(epoch_no,history[\"val_accuracy\"], label = 'Validation Accuracies')\n",
        "plt.xlabel(\"Epochs\")\n",
        "plt.ylabel(\"Accuracies\")\n",
        "plt.title('Accuracy')\n",
        "plt.legend()\n",
        "plt.show()\n",
        "\n",
        "\n",
        "\n"
      ],
      "execution_count": null,
      "outputs": []
    },
    {
      "cell_type": "markdown",
      "metadata": {
        "id": "uBimiN13NZuc"
      },
      "source": [
        ""
      ]
    },
    {
      "cell_type": "code",
      "metadata": {
        "id": "tZtypC1DVIcD"
      },
      "source": [
        "plt.plot(epoch_no,history[\"loss\"])\n",
        "plt.xlabel(\"Epochs\")\n",
        "plt.ylabel(\"Loss\")\n",
        "plt.title('Loss')\n",
        "plt.show()\n"
      ],
      "execution_count": null,
      "outputs": []
    },
    {
      "cell_type": "markdown",
      "metadata": {
        "id": "ZP2vAxM-wsLo"
      },
      "source": [
        "\n",
        "\n",
        "\n",
        "\n"
      ]
    },
    {
      "cell_type": "code",
      "metadata": {
        "id": "thZ318D1WNlZ"
      },
      "source": [
        "plt.plot(epoch_no,history[\"lr\"])\n",
        "plt.xlabel(\"Epochs\")\n",
        "plt.ylabel(\"Learning Rates\")\n",
        "plt.title('Learnrng rates')\n",
        "plt.show()\n"
      ],
      "execution_count": null,
      "outputs": []
    },
    {
      "cell_type": "code",
      "metadata": {
        "id": "OLLqFrNsvbmF",
        "colab": {
          "base_uri": "https://localhost:8080/"
        },
        "outputId": "6ac96528-fa59-40bc-e544-ce075abbdcff"
      },
      "source": [
        "test_score = check_accuracy(test_dataloader,model)\n",
        "print(\"Test dataset score :\",test_score)\n"
      ],
      "execution_count": 1,
      "outputs": [
        {
          "output_type": "error",
          "ename": "NameError",
          "evalue": "ignored",
          "traceback": [
            "\u001b[0;31m---------------------------------------------------------------------------\u001b[0m",
            "\u001b[0;31mNameError\u001b[0m                                 Traceback (most recent call last)",
            "\u001b[0;32m<ipython-input-1-6389d81fefa8>\u001b[0m in \u001b[0;36m<module>\u001b[0;34m()\u001b[0m\n\u001b[0;32m----> 1\u001b[0;31m \u001b[0mtest_score\u001b[0m \u001b[0;34m=\u001b[0m \u001b[0mcheck_accuracy\u001b[0m\u001b[0;34m(\u001b[0m\u001b[0mtest_dataloader\u001b[0m\u001b[0;34m,\u001b[0m\u001b[0mmodel\u001b[0m\u001b[0;34m)\u001b[0m\u001b[0;34m\u001b[0m\u001b[0;34m\u001b[0m\u001b[0m\n\u001b[0m\u001b[1;32m      2\u001b[0m \u001b[0mprint\u001b[0m\u001b[0;34m(\u001b[0m\u001b[0;34m\"Test dataset score :\"\u001b[0m\u001b[0;34m,\u001b[0m\u001b[0mtest_score\u001b[0m\u001b[0;34m)\u001b[0m\u001b[0;34m\u001b[0m\u001b[0;34m\u001b[0m\u001b[0m\n",
            "\u001b[0;31mNameError\u001b[0m: name 'check_accuracy' is not defined"
          ]
        }
      ]
    },
    {
      "cell_type": "code",
      "metadata": {
        "id": "zi1Myh0TyNZA"
      },
      "source": [
        ""
      ],
      "execution_count": null,
      "outputs": []
    },
    {
      "cell_type": "code",
      "metadata": {
        "id": "hDBF5ckJztg9"
      },
      "source": [
        ""
      ],
      "execution_count": null,
      "outputs": []
    },
    {
      "cell_type": "code",
      "metadata": {
        "id": "hagDePOI1iZW"
      },
      "source": [
        ""
      ],
      "execution_count": null,
      "outputs": []
    },
    {
      "cell_type": "code",
      "metadata": {
        "id": "sHhESaGUvsCE"
      },
      "source": [
        ""
      ],
      "execution_count": null,
      "outputs": []
    },
    {
      "cell_type": "markdown",
      "metadata": {
        "id": "6aXSVYL43T2l"
      },
      "source": [
        "\n",
        "\n",
        "\n",
        "\n",
        "\n",
        "\n",
        "\n",
        "\n"
      ]
    },
    {
      "cell_type": "code",
      "metadata": {
        "id": "-XyTee_-3S6L"
      },
      "source": [
        "\n"
      ],
      "execution_count": null,
      "outputs": []
    },
    {
      "cell_type": "markdown",
      "metadata": {
        "id": "VIEVCRlOAOlv"
      },
      "source": [
        ""
      ]
    },
    {
      "cell_type": "code",
      "metadata": {
        "id": "_FQt9uzjONyV"
      },
      "source": [
        ""
      ],
      "execution_count": null,
      "outputs": []
    },
    {
      "cell_type": "code",
      "metadata": {
        "id": "flmBGea7RVba"
      },
      "source": [
        ""
      ],
      "execution_count": null,
      "outputs": []
    },
    {
      "cell_type": "code",
      "metadata": {
        "id": "k_tMxKHWR47r"
      },
      "source": [
        ""
      ],
      "execution_count": null,
      "outputs": []
    },
    {
      "cell_type": "code",
      "metadata": {
        "id": "IswNQCJySdau"
      },
      "source": [
        ""
      ],
      "execution_count": null,
      "outputs": []
    }
  ]
}