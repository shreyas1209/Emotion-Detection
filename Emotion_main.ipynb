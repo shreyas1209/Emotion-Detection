{
  "nbformat": 4,
  "nbformat_minor": 0,
  "metadata": {
    "colab": {
      "name": "Emotion_main.ipynb",
      "provenance": [],
      "collapsed_sections": [],
      "include_colab_link": true
    },
    "kernelspec": {
      "display_name": "Python 3",
      "name": "python3"
    },
    "language_info": {
      "name": "python"
    },
    "accelerator": "GPU"
  },
  "cells": [
    {
      "cell_type": "markdown",
      "metadata": {
        "id": "view-in-github",
        "colab_type": "text"
      },
      "source": [
        "<a href=\"https://colab.research.google.com/github/shreyas1209/Emotion-Detection/blob/main/Emotion_main.ipynb\" target=\"_parent\"><img src=\"https://colab.research.google.com/assets/colab-badge.svg\" alt=\"Open In Colab\"/></a>"
      ]
    },
    {
      "cell_type": "markdown",
      "metadata": {
        "id": "d-SGh2x6ipIH"
      },
      "source": [
        ""
      ]
    },
    {
      "cell_type": "code",
      "metadata": {
        "id": "ItoLYqkPVqXv"
      },
      "source": [
        "#testing data preprocessing\n",
        "import torch\n",
        "import torch.nn as nn\n",
        "import numpy as np\n",
        "import pandas as pd\n",
        "import PIL\n",
        "import os\n",
        "import matplotlib.pyplot as plt\n",
        "import matplotlib.image as img\n",
        "from torchvision import datasets\n",
        "from torchvision import transforms\n",
        "from PIL import Image, ImageDraw\n",
        "from torch.utils.data import Dataset, DataLoader, TensorDataset\n",
        "from numpy import genfromtxt\n",
        "import torchvision.utils as vutils\n",
        "import cv2"
      ],
      "execution_count": 1,
      "outputs": []
    },
    {
      "cell_type": "code",
      "metadata": {
        "id": "O6b3zL4iTOd5",
        "colab": {
          "base_uri": "https://localhost:8080/"
        },
        "outputId": "5eb3c5af-e2dd-4997-d603-4ae7be609c1b"
      },
      "source": [
        "\n",
        "#mounting google drive\n",
        "from google.colab import drive\n",
        "drive.mount('/content/gdrive')"
      ],
      "execution_count": 2,
      "outputs": [
        {
          "output_type": "stream",
          "text": [
            "Mounted at /content/gdrive\n"
          ],
          "name": "stdout"
        }
      ]
    },
    {
      "cell_type": "code",
      "metadata": {
        "id": "feJwv0BiZJwQ"
      },
      "source": [
        "device = torch.device(\"cuda\" if torch.cuda.is_available() else \"cpu\") "
      ],
      "execution_count": 3,
      "outputs": []
    },
    {
      "cell_type": "markdown",
      "metadata": {
        "id": "WHoC-om4NHOF"
      },
      "source": [
        "Using pandas to see how the train and validation data is stored in the csv file\n"
      ]
    },
    {
      "cell_type": "code",
      "metadata": {
        "id": "190WLfcj5dpw",
        "colab": {
          "base_uri": "https://localhost:8080/",
          "height": 415
        },
        "outputId": "131d7191-73c1-4711-8003-a4e9d9ed5618"
      },
      "source": [
        "df = pd.read_csv('/content/gdrive/MyDrive/Emotion Detector/emotion_detection/icml_face_data.csv')\n",
        "df\n"
      ],
      "execution_count": 4,
      "outputs": [
        {
          "output_type": "execute_result",
          "data": {
            "text/html": [
              "<div>\n",
              "<style scoped>\n",
              "    .dataframe tbody tr th:only-of-type {\n",
              "        vertical-align: middle;\n",
              "    }\n",
              "\n",
              "    .dataframe tbody tr th {\n",
              "        vertical-align: top;\n",
              "    }\n",
              "\n",
              "    .dataframe thead th {\n",
              "        text-align: right;\n",
              "    }\n",
              "</style>\n",
              "<table border=\"1\" class=\"dataframe\">\n",
              "  <thead>\n",
              "    <tr style=\"text-align: right;\">\n",
              "      <th></th>\n",
              "      <th>emotion</th>\n",
              "      <th>Usage</th>\n",
              "      <th>pixels</th>\n",
              "    </tr>\n",
              "  </thead>\n",
              "  <tbody>\n",
              "    <tr>\n",
              "      <th>0</th>\n",
              "      <td>0</td>\n",
              "      <td>Training</td>\n",
              "      <td>70 80 82 72 58 58 60 63 54 58 60 48 89 115 121...</td>\n",
              "    </tr>\n",
              "    <tr>\n",
              "      <th>1</th>\n",
              "      <td>0</td>\n",
              "      <td>Training</td>\n",
              "      <td>151 150 147 155 148 133 111 140 170 174 182 15...</td>\n",
              "    </tr>\n",
              "    <tr>\n",
              "      <th>2</th>\n",
              "      <td>2</td>\n",
              "      <td>Training</td>\n",
              "      <td>231 212 156 164 174 138 161 173 182 200 106 38...</td>\n",
              "    </tr>\n",
              "    <tr>\n",
              "      <th>3</th>\n",
              "      <td>4</td>\n",
              "      <td>Training</td>\n",
              "      <td>24 32 36 30 32 23 19 20 30 41 21 22 32 34 21 1...</td>\n",
              "    </tr>\n",
              "    <tr>\n",
              "      <th>4</th>\n",
              "      <td>6</td>\n",
              "      <td>Training</td>\n",
              "      <td>4 0 0 0 0 0 0 0 0 0 0 0 3 15 23 28 48 50 58 84...</td>\n",
              "    </tr>\n",
              "    <tr>\n",
              "      <th>...</th>\n",
              "      <td>...</td>\n",
              "      <td>...</td>\n",
              "      <td>...</td>\n",
              "    </tr>\n",
              "    <tr>\n",
              "      <th>35882</th>\n",
              "      <td>6</td>\n",
              "      <td>PrivateTest</td>\n",
              "      <td>50 36 17 22 23 29 33 39 34 37 37 37 39 43 48 5...</td>\n",
              "    </tr>\n",
              "    <tr>\n",
              "      <th>35883</th>\n",
              "      <td>3</td>\n",
              "      <td>PrivateTest</td>\n",
              "      <td>178 174 172 173 181 188 191 194 196 199 200 20...</td>\n",
              "    </tr>\n",
              "    <tr>\n",
              "      <th>35884</th>\n",
              "      <td>0</td>\n",
              "      <td>PrivateTest</td>\n",
              "      <td>17 17 16 23 28 22 19 17 25 26 20 24 31 19 27 9...</td>\n",
              "    </tr>\n",
              "    <tr>\n",
              "      <th>35885</th>\n",
              "      <td>3</td>\n",
              "      <td>PrivateTest</td>\n",
              "      <td>30 28 28 29 31 30 42 68 79 81 77 67 67 71 63 6...</td>\n",
              "    </tr>\n",
              "    <tr>\n",
              "      <th>35886</th>\n",
              "      <td>2</td>\n",
              "      <td>PrivateTest</td>\n",
              "      <td>19 13 14 12 13 16 21 33 50 57 71 84 97 108 122...</td>\n",
              "    </tr>\n",
              "  </tbody>\n",
              "</table>\n",
              "<p>35887 rows × 3 columns</p>\n",
              "</div>"
            ],
            "text/plain": [
              "       emotion        Usage                                             pixels\n",
              "0            0     Training  70 80 82 72 58 58 60 63 54 58 60 48 89 115 121...\n",
              "1            0     Training  151 150 147 155 148 133 111 140 170 174 182 15...\n",
              "2            2     Training  231 212 156 164 174 138 161 173 182 200 106 38...\n",
              "3            4     Training  24 32 36 30 32 23 19 20 30 41 21 22 32 34 21 1...\n",
              "4            6     Training  4 0 0 0 0 0 0 0 0 0 0 0 3 15 23 28 48 50 58 84...\n",
              "...        ...          ...                                                ...\n",
              "35882        6  PrivateTest  50 36 17 22 23 29 33 39 34 37 37 37 39 43 48 5...\n",
              "35883        3  PrivateTest  178 174 172 173 181 188 191 194 196 199 200 20...\n",
              "35884        0  PrivateTest  17 17 16 23 28 22 19 17 25 26 20 24 31 19 27 9...\n",
              "35885        3  PrivateTest  30 28 28 29 31 30 42 68 79 81 77 67 67 71 63 6...\n",
              "35886        2  PrivateTest  19 13 14 12 13 16 21 33 50 57 71 84 97 108 122...\n",
              "\n",
              "[35887 rows x 3 columns]"
            ]
          },
          "metadata": {
            "tags": []
          },
          "execution_count": 4
        }
      ]
    },
    {
      "cell_type": "code",
      "metadata": {
        "id": "1-FnjSYyEYKN"
      },
      "source": [
        "emotion_dict = {0 :'Angry' ,1 :'Disgusted' , 2 :'Fear' ,3 : 'Happy' ,4 :'Sad' ,5 :'Surprise' ,6 : 'Neutral' }"
      ],
      "execution_count": 5,
      "outputs": []
    },
    {
      "cell_type": "markdown",
      "metadata": {
        "id": "gKHKMToYHiqN"
      },
      "source": [
        "Exploratory Data Analysis"
      ]
    },
    {
      "cell_type": "code",
      "metadata": {
        "id": "FtyLzGVPHh2M",
        "colab": {
          "base_uri": "https://localhost:8080/"
        },
        "outputId": "5882c911-3db6-44ea-d379-46048f15e123"
      },
      "source": [
        "train_num_counts = np.zeros(7)\n",
        "val_num_counts = np.zeros(7)\n",
        "for i in range(7):\n",
        "  train_num_counts[i] = df['emotion'][(df['emotion']==i) &(df[' Usage'] == 'Training')].value_counts()\n",
        "  val_num_counts[i] = df['emotion'][(df['emotion']==i) &(df[' Usage'] == 'PrivateTest')].value_counts()\n",
        "print(train_num_counts,val_num_counts)"
      ],
      "execution_count": 6,
      "outputs": [
        {
          "output_type": "stream",
          "text": [
            "[3995.  436. 4097. 7215. 4830. 3171. 4965.] [491.  55. 528. 879. 594. 416. 626.]\n"
          ],
          "name": "stdout"
        }
      ]
    },
    {
      "cell_type": "markdown",
      "metadata": {
        "id": "ycwJ91CdI2Ty"
      },
      "source": [
        "Plotting the bar graph for training data"
      ]
    },
    {
      "cell_type": "code",
      "metadata": {
        "id": "boUpc9sDHiJr",
        "colab": {
          "base_uri": "https://localhost:8080/",
          "height": 302
        },
        "outputId": "db16d518-81d0-4cf4-f8e7-9cbbab21974e"
      },
      "source": [
        "\n",
        "plt.bar(emotion_dict.values(),train_num_counts,width = 0.5)\n",
        "plt.xlabel('Emotion',fontdict={'size': 16})\n",
        "plt.ylabel('No of instances',fontdict={'size': 16})\n",
        "plt.title(\"Training Data\",fontdict={'size': 16})\n",
        "plt.grid()\n",
        "plt.show()\n"
      ],
      "execution_count": 7,
      "outputs": [
        {
          "output_type": "display_data",
          "data": {
            "image/png": "[encoded data removed]",
            "text/plain": [
              "<Figure size 432x288 with 1 Axes>"
            ]
          },
          "metadata": {
            "tags": [],
            "needs_background": "light"
          }
        }
      ]
    },
    {
      "cell_type": "markdown",
      "metadata": {
        "id": "85HeZ7m5rQ40"
      },
      "source": [
        "The number of data items belonging to the class 'Disgusted' is quite low compared to the other classes"
      ]
    },
    {
      "cell_type": "markdown",
      "metadata": {
        "id": "Fv54zRmRJLcS"
      },
      "source": [
        "Plotting the graph for validation data"
      ]
    },
    {
      "cell_type": "code",
      "metadata": {
        "id": "mNgka2qDJE1n",
        "colab": {
          "base_uri": "https://localhost:8080/",
          "height": 302
        },
        "outputId": "229309d5-05e9-46ed-bedf-0d2735a1a37c"
      },
      "source": [
        "plt.bar(emotion_dict.values(),val_num_counts,width = 0.5)\n",
        "plt.xlabel('Emotion',fontdict={'size': 16})\n",
        "plt.ylabel('No of instances',fontdict={'size': 16})\n",
        "plt.title(\"Validation Data\",fontdict={'size': 16})\n",
        "plt.grid()\n",
        "\n",
        "plt.show()"
      ],
      "execution_count": 8,
      "outputs": [
        {
          "output_type": "display_data",
          "data": {
            "image/png": "[encoded data removed]",
            "text/plain": [
              "<Figure size 432x288 with 1 Axes>"
            ]
          },
          "metadata": {
            "tags": [],
            "needs_background": "light"
          }
        }
      ]
    },
    {
      "cell_type": "markdown",
      "metadata": {
        "id": "X0xana8k28qE"
      },
      "source": [
        "function that converts string data to tensor"
      ]
    },
    {
      "cell_type": "code",
      "metadata": {
        "id": "F8PcOtJGV4d1"
      },
      "source": [
        "def totensor(dataval):\n",
        "  data = dataval.split()\n",
        "  data = [int(i) for i in data]\n",
        "  data = torch.tensor(data, dtype = torch.float)\n",
        "  return data\n",
        "\n",
        "\n",
        "\n",
        "\n",
        "    \n",
        "    \n"
      ],
      "execution_count": 9,
      "outputs": []
    },
    {
      "cell_type": "code",
      "metadata": {
        "id": "3aB8aoj_hV1T"
      },
      "source": [
        "def DATASET (df,normalize = 'False'):\n",
        "  data = df[' pixels']\n",
        "  data = [totensor(i) for i in data]\n",
        "  data = torch.stack([image for image in data])\n",
        "  data = (data.reshape(data.shape[0],1,48,48)/256)\n",
        "  if normalize == 'True':\n",
        "    datastack = torch.stack([data[i] for i in range(len(data))],dim= 2)\n",
        "    mean = datastack.view(1,-1).mean(dim = 1)\n",
        "    std = datastack.view(1,-1).std(dim = 1)\n",
        "    print(mean, std)\n",
        "    data = ((data-mean)/std)\n",
        "    \n",
        "\n",
        "  labels = torch.tensor(df['emotion'].to_numpy())\n",
        "  dataset = TensorDataset(data, labels)\n",
        "  return dataset\n",
        "\n",
        "\n",
        "\n",
        "\n",
        "\n",
        "\n",
        "\n",
        "\n"
      ],
      "execution_count": 10,
      "outputs": []
    },
    {
      "cell_type": "code",
      "metadata": {
        "id": "J5M8w9nA7lJM",
        "colab": {
          "base_uri": "https://localhost:8080/"
        },
        "outputId": "383211d8-6c99-4897-bb53-374d9095c5f2"
      },
      "source": [
        "train_dataset = DATASET(df[df[' Usage']=='Training'],normalize = 'True')\n",
        "val_dataset = DATASET(df[df[' Usage']=='PrivateTest'],normalize = 'True')\n",
        "test_dataset = DATASET(df[df[' Usage']=='PublicTest'],normalize = 'True')"
      ],
      "execution_count": 11,
      "outputs": [
        {
          "output_type": "stream",
          "text": [
            "tensor([0.5058]) tensor([0.2540])\n",
            "tensor([0.5042]) tensor([0.2553])\n",
            "tensor([0.5038]) tensor([0.2539])\n"
          ],
          "name": "stdout"
        }
      ]
    },
    {
      "cell_type": "code",
      "metadata": {
        "id": "oIYL7zN35q58",
        "colab": {
          "base_uri": "https://localhost:8080/",
          "height": 406
        },
        "outputId": "63db81be-5d0f-4885-a19f-fc339a3c0abd"
      },
      "source": [
        "print(train_dataset[0][0])\n",
        "plt.imshow(train_dataset[0][0].reshape(48,48))\n"
      ],
      "execution_count": 12,
      "outputs": [
        {
          "output_type": "stream",
          "text": [
            "tensor([[[-0.9146, -0.7608, -0.7301,  ..., -1.1914, -1.3298, -1.3606],\n",
            "         [-0.9915, -1.0530, -1.0991,  ..., -1.1299, -1.1914, -1.3144],\n",
            "         [-1.2222, -1.3298, -1.1607,  ..., -1.2375, -1.1299, -1.2683],\n",
            "         ...,\n",
            "         [-0.5917, -0.9915, -1.3452,  ..., -0.8838, -1.1299, -1.3298],\n",
            "         [-0.8070, -0.7301, -0.7762,  ..., -0.3764, -0.9146, -1.2837],\n",
            "         [-0.8070, -0.8838, -0.6993,  ..., -0.3610, -0.3149, -0.7301]]])\n"
          ],
          "name": "stdout"
        },
        {
          "output_type": "execute_result",
          "data": {
            "text/plain": [
              "<matplotlib.image.AxesImage at 0x7f3654a36b10>"
            ]
          },
          "metadata": {
            "tags": []
          },
          "execution_count": 12
        },
        {
          "output_type": "display_data",
          "data": {
            "image/png": "[encoded data removed]",
            "text/plain": [
              "<Figure size 432x288 with 1 Axes>"
            ]
          },
          "metadata": {
            "tags": [],
            "needs_background": "light"
          }
        }
      ]
    },
    {
      "cell_type": "code",
      "metadata": {
        "id": "Y_2gq-BaD_sa",
        "colab": {
          "base_uri": "https://localhost:8080/",
          "height": 285
        },
        "outputId": "367f61d4-ea0d-450e-a296-2420078f05e9"
      },
      "source": [
        "val_dataset[0][0]\n",
        "plt.imshow(val_dataset[0][0].reshape(48,48))"
      ],
      "execution_count": 13,
      "outputs": [
        {
          "output_type": "execute_result",
          "data": {
            "text/plain": [
              "<matplotlib.image.AxesImage at 0x7f3654f678d0>"
            ]
          },
          "metadata": {
            "tags": []
          },
          "execution_count": 13
        },
        {
          "output_type": "display_data",
          "data": {
            "image/png": "[encoded data removed]",
            "text/plain": [
              "<Figure size 432x288 with 1 Axes>"
            ]
          },
          "metadata": {
            "tags": [],
            "needs_background": "light"
          }
        }
      ]
    },
    {
      "cell_type": "code",
      "metadata": {
        "id": "B_vEAdJzD_d2",
        "colab": {
          "base_uri": "https://localhost:8080/",
          "height": 510
        },
        "outputId": "003686e2-64a4-4833-a701-c85be730ea86"
      },
      "source": [
        "print(test_dataset[0][0])\n",
        "plt.imshow(test_dataset[0][0].reshape(48,48))"
      ],
      "execution_count": 14,
      "outputs": [
        {
          "output_type": "stream",
          "text": [
            "tensor([[[ 1.9232e+00,  1.9232e+00,  1.9232e+00,  ..., -1.7380e+00,\n",
            "          -1.9841e+00,  4.9255e-01],\n",
            "         [ 1.9232e+00,  1.9232e+00,  1.9232e+00,  ..., -1.7226e+00,\n",
            "          -1.9841e+00, -1.0739e-01],\n",
            "         [ 1.9232e+00,  1.9232e+00,  1.9232e+00,  ..., -1.5842e+00,\n",
            "          -1.9841e+00, -2.3046e-01],\n",
            "         ...,\n",
            "         [-9.6885e-01, -6.6119e-01, -4.6120e-01,  ...,  1.9386e+00,\n",
            "           1.8924e+00,  1.9232e+00],\n",
            "         [-6.9195e-01, -5.6889e-01, -5.6889e-01,  ...,  1.6463e+00,\n",
            "           1.9386e+00,  1.9386e+00],\n",
            "         [-5.5350e-01, -5.9965e-01, -6.7657e-01,  ..., -1.3380e+00,\n",
            "           2.9177e-04,  7.8483e-01]]])\n"
          ],
          "name": "stdout"
        },
        {
          "output_type": "execute_result",
          "data": {
            "text/plain": [
              "<matplotlib.image.AxesImage at 0x7f3654a5a550>"
            ]
          },
          "metadata": {
            "tags": []
          },
          "execution_count": 14
        },
        {
          "output_type": "display_data",
          "data": {
            "image/png": "[encoded data removed]",
            "text/plain": [
              "<Figure size 432x288 with 1 Axes>"
            ]
          },
          "metadata": {
            "tags": [],
            "needs_background": "light"
          }
        }
      ]
    },
    {
      "cell_type": "code",
      "metadata": {
        "id": "xB3_D-J8Gx69"
      },
      "source": [
        "batch_size = 128"
      ],
      "execution_count": 15,
      "outputs": []
    },
    {
      "cell_type": "code",
      "metadata": {
        "id": "3uLlDU-126Uq"
      },
      "source": [
        "train_dataloader = DataLoader(train_dataset, batch_size = batch_size)\n",
        "val_dataloader = DataLoader(val_dataset, batch_size = batch_size)\n",
        "test_dataloader = DataLoader(test_dataset, batch_size = batch_size)\n"
      ],
      "execution_count": 16,
      "outputs": []
    },
    {
      "cell_type": "markdown",
      "metadata": {
        "id": "7VygcgA7Jefr"
      },
      "source": [
        "Importing the training and models module"
      ]
    },
    {
      "cell_type": "code",
      "metadata": {
        "id": "oyfmRdAivwk7"
      },
      "source": [
        "import sys\n",
        "\n",
        "sys.path.append('/content/gdrive/MyDrive/Emotion Detector') \n"
      ],
      "execution_count": 17,
      "outputs": []
    },
    {
      "cell_type": "code",
      "metadata": {
        "id": "GDbeguJWJwdU",
        "colab": {
          "base_uri": "https://localhost:8080/"
        },
        "outputId": "74300211-d61b-4a70-c0a8-7db6b3c31af0"
      },
      "source": [
        "from Emotion_train import *\n",
        "from Emotion_models import *"
      ],
      "execution_count": 18,
      "outputs": [
        {
          "output_type": "stream",
          "text": [
            "Drive already mounted at /content/gdrive; to attempt to forcibly remount, call drive.mount(\"/content/gdrive\", force_remount=True).\n"
          ],
          "name": "stdout"
        }
      ]
    },
    {
      "cell_type": "code",
      "metadata": {
        "id": "u4D16BOz09Nu"
      },
      "source": [
        "model = emonet(7)\n",
        "learning_rate = 1e-3\n",
        "epochs = 50\n",
        "optimizer = optim.Adam(model.parameters(), lr = learning_rate)\n",
        "loss_func = nn.CrossEntropyLoss()\n",
        "\n",
        "\n",
        "\n",
        "\n",
        "    \n",
        "    \n",
        "\n",
        "    "
      ],
      "execution_count": 19,
      "outputs": []
    },
    {
      "cell_type": "markdown",
      "metadata": {
        "id": "DujiGtUSoax5"
      },
      "source": [
        "\n",
        "\n"
      ]
    },
    {
      "cell_type": "code",
      "metadata": {
        "id": "6Df2pObHUFi-",
        "colab": {
          "base_uri": "https://localhost:8080/"
        },
        "outputId": "94ede559-0b3a-4553-e78d-bccbd4b2e4f4"
      },
      "source": [
        "start = time.process_time()\n",
        "model,history = train(train_dataloader,val_dataloader,epochs,model,loss_func,optimizer)\n",
        "end = time.process_time()\n",
        "elapsed = end-start\n",
        "print(\"Total time :\", elapsed)"
      ],
      "execution_count": 20,
      "outputs": [
        {
          "output_type": "stream",
          "text": [
            "Epoch (1/50),Training loss : 1.4754, Time: 15.92,Last lr: 0.00100 train_accuracy:0.5004, val_accuracy:0.4898\n",
            "Epoch (2/50),Training loss : 1.3454, Time: 16.05,Last lr: 0.01080 train_accuracy:0.5339, val_accuracy:0.5171\n",
            "Epoch (3/50),Training loss : 1.1929, Time: 16.00,Last lr: 0.02060 train_accuracy:0.5646, val_accuracy:0.5364\n",
            "Epoch (4/50),Training loss : 1.1140, Time: 16.01,Last lr: 0.03040 train_accuracy:0.5787, val_accuracy:0.5500\n",
            "Epoch (5/50),Training loss : 1.0596, Time: 16.04,Last lr: 0.04020 train_accuracy:0.5856, val_accuracy:0.5366\n",
            "Epoch (6/50),Training loss : 1.0081, Time: 16.03,Last lr: 0.05000 train_accuracy:0.5879, val_accuracy:0.5224\n",
            "Epoch (7/50),Training loss : 0.9211, Time: 16.02,Last lr: 0.04020 train_accuracy:0.5960, val_accuracy:0.5252\n",
            "Epoch (8/50),Training loss : 0.8222, Time: 16.00,Last lr: 0.03040 train_accuracy:0.5740, val_accuracy:0.5107\n",
            "Epoch (9/50),Training loss : 0.7242, Time: 16.03,Last lr: 0.02060 train_accuracy:0.5937, val_accuracy:0.5143\n",
            "Epoch (10/50),Training loss : 0.5895, Time: 16.05,Last lr: 0.01080 train_accuracy:0.7555, val_accuracy:0.5826\n",
            "Epoch (11/50),Training loss : 0.4792, Time: 16.09,Last lr: 0.00100 train_accuracy:0.8573, val_accuracy:0.6269\n",
            "Epoch (12/50),Training loss : 0.4078, Time: 16.02,Last lr: 0.00590 train_accuracy:0.8457, val_accuracy:0.5952\n",
            "Epoch (13/50),Training loss : 0.3463, Time: 16.04,Last lr: 0.01080 train_accuracy:0.8349, val_accuracy:0.5979\n",
            "Epoch (14/50),Training loss : 0.4074, Time: 16.05,Last lr: 0.01570 train_accuracy:0.8182, val_accuracy:0.5954\n",
            "Epoch (15/50),Training loss : 0.4373, Time: 16.06,Last lr: 0.02060 train_accuracy:0.7992, val_accuracy:0.5720\n",
            "Epoch (16/50),Training loss : 0.4372, Time: 16.04,Last lr: 0.02550 train_accuracy:0.8011, val_accuracy:0.5896\n",
            "Epoch (17/50),Training loss : 0.3498, Time: 16.03,Last lr: 0.02060 train_accuracy:0.8164, val_accuracy:0.5793\n",
            "Epoch (18/50),Training loss : 0.2506, Time: 16.06,Last lr: 0.01570 train_accuracy:0.8596, val_accuracy:0.5885\n",
            "Epoch (19/50),Training loss : 0.1680, Time: 16.04,Last lr: 0.01080 train_accuracy:0.8827, val_accuracy:0.5890\n",
            "Epoch (20/50),Training loss : 0.1028, Time: 16.04,Last lr: 0.00590 train_accuracy:0.9476, val_accuracy:0.6102\n",
            "Epoch (21/50),Training loss : 0.0610, Time: 16.06,Last lr: 0.00100 train_accuracy:0.9931, val_accuracy:0.6197\n",
            "Epoch (22/50),Training loss : 0.0301, Time: 16.04,Last lr: 0.00345 train_accuracy:0.9931, val_accuracy:0.6222\n",
            "Epoch (23/50),Training loss : 0.0251, Time: 16.02,Last lr: 0.00590 train_accuracy:0.9927, val_accuracy:0.6208\n",
            "Epoch (24/50),Training loss : 0.0258, Time: 16.04,Last lr: 0.00835 train_accuracy:0.9902, val_accuracy:0.6205\n",
            "Epoch (25/50),Training loss : 0.0262, Time: 16.07,Last lr: 0.01080 train_accuracy:0.9802, val_accuracy:0.6155\n",
            "Epoch (26/50),Training loss : 0.1419, Time: 16.07,Last lr: 0.01325 train_accuracy:0.7992, val_accuracy:0.5550\n",
            "Epoch (27/50),Training loss : 0.1707, Time: 16.03,Last lr: 0.01080 train_accuracy:0.9227, val_accuracy:0.5929\n",
            "Epoch (28/50),Training loss : 0.0752, Time: 16.04,Last lr: 0.00835 train_accuracy:0.9478, val_accuracy:0.6110\n",
            "Epoch (29/50),Training loss : 0.0392, Time: 16.04,Last lr: 0.00590 train_accuracy:0.9767, val_accuracy:0.6202\n",
            "Epoch (30/50),Training loss : 0.0181, Time: 16.03,Last lr: 0.00345 train_accuracy:0.9963, val_accuracy:0.6311\n",
            "Epoch (31/50),Training loss : 0.0096, Time: 16.04,Last lr: 0.00100 train_accuracy:0.9980, val_accuracy:0.6319\n",
            "Epoch (32/50),Training loss : 0.0073, Time: 16.05,Last lr: 0.00222 train_accuracy:0.9979, val_accuracy:0.6300\n",
            "Epoch (33/50),Training loss : 0.0103, Time: 16.06,Last lr: 0.00345 train_accuracy:0.9975, val_accuracy:0.6317\n",
            "Epoch (34/50),Training loss : 0.0124, Time: 16.05,Last lr: 0.00467 train_accuracy:0.9972, val_accuracy:0.6342\n",
            "Epoch (35/50),Training loss : 0.0132, Time: 16.05,Last lr: 0.00590 train_accuracy:0.9955, val_accuracy:0.6350\n",
            "Epoch (36/50),Training loss : 0.0146, Time: 16.05,Last lr: 0.00713 train_accuracy:0.9953, val_accuracy:0.6311\n",
            "Epoch (37/50),Training loss : 0.0109, Time: 16.07,Last lr: 0.00590 train_accuracy:0.9959, val_accuracy:0.6328\n",
            "Epoch (38/50),Training loss : 0.0091, Time: 16.05,Last lr: 0.00467 train_accuracy:0.9962, val_accuracy:0.6308\n",
            "Epoch (39/50),Training loss : 0.0066, Time: 16.09,Last lr: 0.00345 train_accuracy:0.9972, val_accuracy:0.6291\n",
            "Epoch (40/50),Training loss : 0.0051, Time: 16.07,Last lr: 0.00222 train_accuracy:0.9979, val_accuracy:0.6286\n",
            "Epoch (41/50),Training loss : 0.0037, Time: 16.05,Last lr: 0.00100 train_accuracy:0.9982, val_accuracy:0.6266\n",
            "Epoch (42/50),Training loss : 0.0027, Time: 16.03,Last lr: 0.00161 train_accuracy:0.9980, val_accuracy:0.6275\n",
            "Epoch (43/50),Training loss : 0.0038, Time: 16.01,Last lr: 0.00223 train_accuracy:0.9980, val_accuracy:0.6291\n",
            "Epoch (44/50),Training loss : 0.0058, Time: 16.04,Last lr: 0.00284 train_accuracy:0.9975, val_accuracy:0.6269\n",
            "Epoch (45/50),Training loss : 0.0078, Time: 16.04,Last lr: 0.00345 train_accuracy:0.9947, val_accuracy:0.6208\n",
            "Epoch (46/50),Training loss : 0.0103, Time: 16.03,Last lr: 0.00406 train_accuracy:0.9930, val_accuracy:0.6239\n",
            "Epoch (47/50),Training loss : 0.0093, Time: 16.03,Last lr: 0.00345 train_accuracy:0.9924, val_accuracy:0.6211\n",
            "Epoch (48/50),Training loss : 0.0080, Time: 16.03,Last lr: 0.00284 train_accuracy:0.9941, val_accuracy:0.6252\n",
            "Epoch (49/50),Training loss : 0.0057, Time: 16.07,Last lr: 0.00223 train_accuracy:0.9972, val_accuracy:0.6230\n",
            "Epoch (50/50),Training loss : 0.0035, Time: 16.03,Last lr: 0.00161 train_accuracy:0.9979, val_accuracy:0.6233\n",
            "Total time : 804.338638819\n"
          ],
          "name": "stdout"
        }
      ]
    },
    {
      "cell_type": "markdown",
      "metadata": {
        "id": "36JXh8eXQzwe"
      },
      "source": [
        "Post training analysis"
      ]
    },
    {
      "cell_type": "code",
      "metadata": {
        "id": "P78t-6M4QoPg",
        "colab": {
          "base_uri": "https://localhost:8080/",
          "height": 295
        },
        "outputId": "00b8eb83-48b9-44d0-9f3a-943db20b2713"
      },
      "source": [
        "epoch_no = [(i+1) for i in range(epochs)]\n",
        "\n",
        "plt.plot(epoch_no,history[\"train_accuracy\"], label = 'Train Accuracies')\n",
        "plt.plot(epoch_no,history[\"val_accuracy\"], label = 'Validation Accuracies')\n",
        "plt.xlabel(\"Epochs\")\n",
        "plt.ylabel(\"Accuracies\")\n",
        "plt.title('Accuracy')\n",
        "plt.legend()\n",
        "plt.show()\n",
        "\n",
        "\n",
        "\n"
      ],
      "execution_count": 21,
      "outputs": [
        {
          "output_type": "display_data",
          "data": {
            "image/png": "[encoded data removed]",
            "text/plain": [
              "<Figure size 432x288 with 1 Axes>"
            ]
          },
          "metadata": {
            "tags": [],
            "needs_background": "light"
          }
        }
      ]
    },
    {
      "cell_type": "markdown",
      "metadata": {
        "id": "uBimiN13NZuc"
      },
      "source": [
        ""
      ]
    },
    {
      "cell_type": "code",
      "metadata": {
        "id": "tZtypC1DVIcD",
        "colab": {
          "base_uri": "https://localhost:8080/",
          "height": 295
        },
        "outputId": "04242cbc-6cf9-4350-ff55-c41eb1738706"
      },
      "source": [
        "plt.plot(epoch_no,history[\"loss\"])\n",
        "plt.xlabel(\"Epochs\")\n",
        "plt.ylabel(\"Loss\")\n",
        "plt.title('Loss')\n",
        "plt.show()\n"
      ],
      "execution_count": 22,
      "outputs": [
        {
          "output_type": "display_data",
          "data": {
            "image/png": "[encoded data removed]",
            "text/plain": [
              "<Figure size 432x288 with 1 Axes>"
            ]
          },
          "metadata": {
            "tags": [],
            "needs_background": "light"
          }
        }
      ]
    },
    {
      "cell_type": "markdown",
      "metadata": {
        "id": "ZP2vAxM-wsLo"
      },
      "source": [
        "\n",
        "\n",
        "\n",
        "\n"
      ]
    },
    {
      "cell_type": "code",
      "metadata": {
        "id": "thZ318D1WNlZ",
        "colab": {
          "base_uri": "https://localhost:8080/",
          "height": 295
        },
        "outputId": "3ac0435f-b315-4e46-9987-5da1df7df561"
      },
      "source": [
        "plt.plot(epoch_no,history[\"lr\"])\n",
        "plt.xlabel(\"Epochs\")\n",
        "plt.ylabel(\"Learning Rates\")\n",
        "plt.title('Learnrng rates')\n",
        "plt.show()\n"
      ],
      "execution_count": 23,
      "outputs": [
        {
          "output_type": "display_data",
          "data": {
            "image/png": "[encoded data removed]",
            "text/plain": [
              "<Figure size 432x288 with 1 Axes>"
            ]
          },
          "metadata": {
            "tags": [],
            "needs_background": "light"
          }
        }
      ]
    },
    {
      "cell_type": "code",
      "metadata": {
        "id": "OLLqFrNsvbmF",
        "colab": {
          "base_uri": "https://localhost:8080/"
        },
        "outputId": "3d79e93c-6113-429b-dec9-31974525d13a"
      },
      "source": [
        "test_score = check_accuracy(model,test_dataloader)\n",
        "print(\"Test dataset score :\",test_score)\n"
      ],
      "execution_count": 25,
      "outputs": [
        {
          "output_type": "stream",
          "text": [
            "Test dataset score : 0.6076901643911953\n"
          ],
          "name": "stdout"
        }
      ]
    },
    {
      "cell_type": "code",
      "metadata": {
        "id": "zi1Myh0TyNZA"
      },
      "source": [
        ""
      ],
      "execution_count": null,
      "outputs": []
    },
    {
      "cell_type": "code",
      "metadata": {
        "id": "hDBF5ckJztg9"
      },
      "source": [
        ""
      ],
      "execution_count": null,
      "outputs": []
    },
    {
      "cell_type": "code",
      "metadata": {
        "id": "hagDePOI1iZW"
      },
      "source": [
        ""
      ],
      "execution_count": null,
      "outputs": []
    },
    {
      "cell_type": "code",
      "metadata": {
        "id": "sHhESaGUvsCE"
      },
      "source": [
        ""
      ],
      "execution_count": null,
      "outputs": []
    },
    {
      "cell_type": "markdown",
      "metadata": {
        "id": "6aXSVYL43T2l"
      },
      "source": [
        "\n",
        "\n",
        "\n",
        "\n",
        "\n",
        "\n",
        "\n",
        "\n"
      ]
    },
    {
      "cell_type": "code",
      "metadata": {
        "id": "-XyTee_-3S6L"
      },
      "source": [
        "\n"
      ],
      "execution_count": null,
      "outputs": []
    },
    {
      "cell_type": "markdown",
      "metadata": {
        "id": "VIEVCRlOAOlv"
      },
      "source": [
        ""
      ]
    },
    {
      "cell_type": "code",
      "metadata": {
        "id": "_FQt9uzjONyV"
      },
      "source": [
        ""
      ],
      "execution_count": null,
      "outputs": []
    },
    {
      "cell_type": "code",
      "metadata": {
        "id": "flmBGea7RVba"
      },
      "source": [
        ""
      ],
      "execution_count": null,
      "outputs": []
    },
    {
      "cell_type": "code",
      "metadata": {
        "id": "k_tMxKHWR47r"
      },
      "source": [
        ""
      ],
      "execution_count": null,
      "outputs": []
    },
    {
      "cell_type": "code",
      "metadata": {
        "id": "IswNQCJySdau"
      },
      "source": [
        ""
      ],
      "execution_count": null,
      "outputs": []
    }
  ]
}